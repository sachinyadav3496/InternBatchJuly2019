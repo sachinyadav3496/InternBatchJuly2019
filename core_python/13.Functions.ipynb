{
 "cells": [
  {
   "cell_type": "code",
   "execution_count": 1,
   "metadata": {},
   "outputs": [
    {
     "name": "stdout",
     "output_type": "stream",
     "text": [
      "Here is your X =  5\n"
     ]
    }
   ],
   "source": [
    "x = 5\n",
    "def hello():\n",
    "    print(\"Here is your X = \",x)\n",
    "    \n",
    "hello()"
   ]
  },
  {
   "cell_type": "code",
   "execution_count": 2,
   "metadata": {},
   "outputs": [
    {
     "name": "stdout",
     "output_type": "stream",
     "text": [
      "Here is your X =  25\n"
     ]
    }
   ],
   "source": [
    "x  = 5\n",
    "def hello():\n",
    "    print(\"Here is your X = \",x**2)\n",
    "hello()"
   ]
  },
  {
   "cell_type": "code",
   "execution_count": 5,
   "metadata": {},
   "outputs": [
    {
     "name": "stdout",
     "output_type": "stream",
     "text": [
      "Before x =  5\n"
     ]
    },
    {
     "ename": "UnboundLocalError",
     "evalue": "local variable 'x' referenced before assignment",
     "output_type": "error",
     "traceback": [
      "\u001b[1;31m---------------------------------------------------------------------------\u001b[0m",
      "\u001b[1;31mUnboundLocalError\u001b[0m                         Traceback (most recent call last)",
      "\u001b[1;32m<ipython-input-5-05781c4d1b99>\u001b[0m in \u001b[0;36m<module>\u001b[1;34m\u001b[0m\n\u001b[0;32m      4\u001b[0m     \u001b[0mprint\u001b[0m\u001b[1;33m(\u001b[0m\u001b[1;34m\"Here is your X = \"\u001b[0m\u001b[1;33m,\u001b[0m\u001b[0mx\u001b[0m\u001b[1;33m)\u001b[0m\u001b[1;33m\u001b[0m\u001b[1;33m\u001b[0m\u001b[0m\n\u001b[0;32m      5\u001b[0m \u001b[0mprint\u001b[0m\u001b[1;33m(\u001b[0m\u001b[1;34m\"Before x = \"\u001b[0m\u001b[1;33m,\u001b[0m\u001b[0mx\u001b[0m\u001b[1;33m)\u001b[0m\u001b[1;33m\u001b[0m\u001b[1;33m\u001b[0m\u001b[0m\n\u001b[1;32m----> 6\u001b[1;33m \u001b[0mhello\u001b[0m\u001b[1;33m(\u001b[0m\u001b[1;33m)\u001b[0m\u001b[1;33m\u001b[0m\u001b[1;33m\u001b[0m\u001b[0m\n\u001b[0m\u001b[0;32m      7\u001b[0m \u001b[0mprint\u001b[0m\u001b[1;33m(\u001b[0m\u001b[1;34m\"After x = \"\u001b[0m\u001b[1;33m,\u001b[0m\u001b[0mx\u001b[0m\u001b[1;33m)\u001b[0m\u001b[1;33m\u001b[0m\u001b[1;33m\u001b[0m\u001b[0m\n",
      "\u001b[1;32m<ipython-input-5-05781c4d1b99>\u001b[0m in \u001b[0;36mhello\u001b[1;34m()\u001b[0m\n\u001b[0;32m      1\u001b[0m \u001b[0mx\u001b[0m \u001b[1;33m=\u001b[0m \u001b[1;36m5\u001b[0m\u001b[1;33m\u001b[0m\u001b[1;33m\u001b[0m\u001b[0m\n\u001b[0;32m      2\u001b[0m \u001b[1;32mdef\u001b[0m \u001b[0mhello\u001b[0m\u001b[1;33m(\u001b[0m\u001b[1;33m)\u001b[0m\u001b[1;33m:\u001b[0m\u001b[1;33m\u001b[0m\u001b[1;33m\u001b[0m\u001b[0m\n\u001b[1;32m----> 3\u001b[1;33m     \u001b[0mx\u001b[0m \u001b[1;33m=\u001b[0m \u001b[0mx\u001b[0m \u001b[1;33m**\u001b[0m \u001b[1;36m2\u001b[0m\u001b[1;33m\u001b[0m\u001b[1;33m\u001b[0m\u001b[0m\n\u001b[0m\u001b[0;32m      4\u001b[0m     \u001b[0mprint\u001b[0m\u001b[1;33m(\u001b[0m\u001b[1;34m\"Here is your X = \"\u001b[0m\u001b[1;33m,\u001b[0m\u001b[0mx\u001b[0m\u001b[1;33m)\u001b[0m\u001b[1;33m\u001b[0m\u001b[1;33m\u001b[0m\u001b[0m\n\u001b[0;32m      5\u001b[0m \u001b[0mprint\u001b[0m\u001b[1;33m(\u001b[0m\u001b[1;34m\"Before x = \"\u001b[0m\u001b[1;33m,\u001b[0m\u001b[0mx\u001b[0m\u001b[1;33m)\u001b[0m\u001b[1;33m\u001b[0m\u001b[1;33m\u001b[0m\u001b[0m\n",
      "\u001b[1;31mUnboundLocalError\u001b[0m: local variable 'x' referenced before assignment"
     ]
    }
   ],
   "source": [
    "x = 5\n",
    "def hello():\n",
    "    x = x ** 2\n",
    "    print(\"Here is your X = \",x)\n",
    "print(\"Before x = \",x)\n",
    "hello()\n",
    "print(\"After x = \",x)"
   ]
  },
  {
   "cell_type": "code",
   "execution_count": 3,
   "metadata": {},
   "outputs": [
    {
     "data": {
      "text/plain": [
       "{'__name__': '__main__',\n",
       " '__doc__': 'Automatically created module for IPython interactive environment',\n",
       " '__package__': None,\n",
       " '__loader__': None,\n",
       " '__spec__': None,\n",
       " '__builtin__': <module 'builtins' (built-in)>,\n",
       " '__builtins__': <module 'builtins' (built-in)>,\n",
       " '_ih': ['',\n",
       "  'x = 5\\ndef hello():\\n    print(\"Here is your X = \",x)\\n    \\nhello()',\n",
       "  'x  = 5\\ndef hello():\\n    print(\"Here is your X = \",x**2)\\nhello()',\n",
       "  'locals()'],\n",
       " '_oh': {},\n",
       " '_dh': ['C:\\\\Users\\\\hp\\\\Desktop\\\\Batch1pm'],\n",
       " 'In': ['',\n",
       "  'x = 5\\ndef hello():\\n    print(\"Here is your X = \",x)\\n    \\nhello()',\n",
       "  'x  = 5\\ndef hello():\\n    print(\"Here is your X = \",x**2)\\nhello()',\n",
       "  'locals()'],\n",
       " 'Out': {},\n",
       " 'get_ipython': <bound method InteractiveShell.get_ipython of <ipykernel.zmqshell.ZMQInteractiveShell object at 0x0000016A3D2F4F98>>,\n",
       " 'exit': <IPython.core.autocall.ZMQExitAutocall at 0x16a3dcb2eb8>,\n",
       " 'quit': <IPython.core.autocall.ZMQExitAutocall at 0x16a3dcb2eb8>,\n",
       " '_': '',\n",
       " '__': '',\n",
       " '___': '',\n",
       " '_i': 'x  = 5\\ndef hello():\\n    print(\"Here is your X = \",x**2)\\nhello()',\n",
       " '_ii': 'x = 5\\ndef hello():\\n    print(\"Here is your X = \",x)\\n    \\nhello()',\n",
       " '_iii': '',\n",
       " '_i1': 'x = 5\\ndef hello():\\n    print(\"Here is your X = \",x)\\n    \\nhello()',\n",
       " 'x': 5,\n",
       " 'hello': <function __main__.hello()>,\n",
       " '_i2': 'x  = 5\\ndef hello():\\n    print(\"Here is your X = \",x**2)\\nhello()',\n",
       " '_i3': 'locals()'}"
      ]
     },
     "execution_count": 3,
     "metadata": {},
     "output_type": "execute_result"
    }
   ],
   "source": [
    "locals()"
   ]
  },
  {
   "cell_type": "code",
   "execution_count": 4,
   "metadata": {},
   "outputs": [
    {
     "data": {
      "text/plain": [
       "{'__name__': '__main__',\n",
       " '__doc__': 'Automatically created module for IPython interactive environment',\n",
       " '__package__': None,\n",
       " '__loader__': None,\n",
       " '__spec__': None,\n",
       " '__builtin__': <module 'builtins' (built-in)>,\n",
       " '__builtins__': <module 'builtins' (built-in)>,\n",
       " '_ih': ['',\n",
       "  'x = 5\\ndef hello():\\n    print(\"Here is your X = \",x)\\n    \\nhello()',\n",
       "  'x  = 5\\ndef hello():\\n    print(\"Here is your X = \",x**2)\\nhello()',\n",
       "  'locals()',\n",
       "  'globals()'],\n",
       " '_oh': {3: {...}},\n",
       " '_dh': ['C:\\\\Users\\\\hp\\\\Desktop\\\\Batch1pm'],\n",
       " 'In': ['',\n",
       "  'x = 5\\ndef hello():\\n    print(\"Here is your X = \",x)\\n    \\nhello()',\n",
       "  'x  = 5\\ndef hello():\\n    print(\"Here is your X = \",x**2)\\nhello()',\n",
       "  'locals()',\n",
       "  'globals()'],\n",
       " 'Out': {3: {...}},\n",
       " 'get_ipython': <bound method InteractiveShell.get_ipython of <ipykernel.zmqshell.ZMQInteractiveShell object at 0x0000016A3D2F4F98>>,\n",
       " 'exit': <IPython.core.autocall.ZMQExitAutocall at 0x16a3dcb2eb8>,\n",
       " 'quit': <IPython.core.autocall.ZMQExitAutocall at 0x16a3dcb2eb8>,\n",
       " '_': {...},\n",
       " '__': '',\n",
       " '___': '',\n",
       " '_i': 'locals()',\n",
       " '_ii': 'x  = 5\\ndef hello():\\n    print(\"Here is your X = \",x**2)\\nhello()',\n",
       " '_iii': 'x = 5\\ndef hello():\\n    print(\"Here is your X = \",x)\\n    \\nhello()',\n",
       " '_i1': 'x = 5\\ndef hello():\\n    print(\"Here is your X = \",x)\\n    \\nhello()',\n",
       " 'x': 5,\n",
       " 'hello': <function __main__.hello()>,\n",
       " '_i2': 'x  = 5\\ndef hello():\\n    print(\"Here is your X = \",x**2)\\nhello()',\n",
       " '_i3': 'locals()',\n",
       " '_3': {...},\n",
       " '_i4': 'globals()'}"
      ]
     },
     "execution_count": 4,
     "metadata": {},
     "output_type": "execute_result"
    }
   ],
   "source": [
    "globals()"
   ]
  },
  {
   "cell_type": "code",
   "execution_count": 6,
   "metadata": {},
   "outputs": [
    {
     "name": "stdout",
     "output_type": "stream",
     "text": [
      "Before x =  5\n",
      "Here is your X =  25\n",
      "After x =  25\n"
     ]
    }
   ],
   "source": [
    "x = 5\n",
    "def hello():\n",
    "    global x \n",
    "    x = x ** 2\n",
    "    print(\"Here is your X = \",x)\n",
    "print(\"Before x = \",x)\n",
    "hello()\n",
    "print(\"After x = \",x)"
   ]
  },
  {
   "cell_type": "code",
   "execution_count": 7,
   "metadata": {},
   "outputs": [
    {
     "name": "stdout",
     "output_type": "stream",
     "text": [
      "berfore x =  5\n",
      "25\n",
      "after x =  5\n"
     ]
    }
   ],
   "source": [
    "x = 5\n",
    "def change(x):\n",
    "    x =  x ** 2 \n",
    "    print(x)\n",
    "print('berfore x = ',x)\n",
    "change(x)\n",
    "print('after x = ',x)"
   ]
  },
  {
   "cell_type": "code",
   "execution_count": 1,
   "metadata": {},
   "outputs": [],
   "source": [
    "y = 5\n",
    "def change(x):\n",
    "    def hi():\n",
    "        print(\"x = \",x**2)\n",
    "        print(\"y = \",y)\n",
    "    hi()\n",
    "    "
   ]
  },
  {
   "cell_type": "code",
   "execution_count": 2,
   "metadata": {},
   "outputs": [
    {
     "name": "stdout",
     "output_type": "stream",
     "text": [
      "x =  25\n",
      "y =  5\n"
     ]
    }
   ],
   "source": [
    "change(y)"
   ]
  },
  {
   "cell_type": "code",
   "execution_count": 3,
   "metadata": {},
   "outputs": [
    {
     "ename": "NameError",
     "evalue": "name 'x' is not defined",
     "output_type": "error",
     "traceback": [
      "\u001b[1;31m---------------------------------------------------------------------------\u001b[0m",
      "\u001b[1;31mNameError\u001b[0m                                 Traceback (most recent call last)",
      "\u001b[1;32m<ipython-input-3-fc17d851ef81>\u001b[0m in \u001b[0;36m<module>\u001b[1;34m\u001b[0m\n\u001b[1;32m----> 1\u001b[1;33m \u001b[0mprint\u001b[0m\u001b[1;33m(\u001b[0m\u001b[0mx\u001b[0m\u001b[1;33m)\u001b[0m\u001b[1;33m\u001b[0m\u001b[1;33m\u001b[0m\u001b[0m\n\u001b[0m",
      "\u001b[1;31mNameError\u001b[0m: name 'x' is not defined"
     ]
    }
   ],
   "source": [
    "print(x)"
   ]
  },
  {
   "cell_type": "code",
   "execution_count": 6,
   "metadata": {},
   "outputs": [],
   "source": [
    "def hi(x = 5):\n",
    "    print(locals())"
   ]
  },
  {
   "cell_type": "code",
   "execution_count": 7,
   "metadata": {},
   "outputs": [
    {
     "name": "stdout",
     "output_type": "stream",
     "text": [
      "{'x': 5}\n"
     ]
    }
   ],
   "source": [
    "hi()"
   ]
  },
  {
   "cell_type": "code",
   "execution_count": 8,
   "metadata": {},
   "outputs": [],
   "source": [
    "#locals()"
   ]
  },
  {
   "cell_type": "code",
   "execution_count": 10,
   "metadata": {},
   "outputs": [
    {
     "name": "stdout",
     "output_type": "stream",
     "text": [
      "Inside Hi Locals  {'x': 5}\n",
      "Inside hello Locals  {'y': 25}\n",
      "After hello Locals  {'x': 5, 'hello': <function hi.<locals>.hello at 0x000001B51907E268>}\n"
     ]
    }
   ],
   "source": [
    "def hi():\n",
    "    x = 5\n",
    "    print(\"Inside Hi Locals \",locals())\n",
    "    def hello():\n",
    "        y = 25 \n",
    "        print(\"Inside hello Locals \",locals())\n",
    "    hello()\n",
    "    print(\"After hello Locals \",locals())\n",
    "    \n",
    "hi()\n",
    "    "
   ]
  },
  {
   "cell_type": "code",
   "execution_count": 2,
   "metadata": {},
   "outputs": [
    {
     "name": "stdout",
     "output_type": "stream",
     "text": [
      "Inside unlocal y =  5\n",
      "Inside local y =  25\n",
      "After local y =  25\n"
     ]
    }
   ],
   "source": [
    "x = 5\n",
    "def un_local():\n",
    "    y = x \n",
    "    def local():\n",
    "        nonlocal y\n",
    "        y = y **2 \n",
    "        print(\"Inside local y = \",y)\n",
    "    print(\"Inside unlocal y = \",y)\n",
    "    local()\n",
    "    print(\"After local y = \",y)\n",
    "\n",
    "un_local()"
   ]
  },
  {
   "cell_type": "code",
   "execution_count": 3,
   "metadata": {},
   "outputs": [
    {
     "name": "stdout",
     "output_type": "stream",
     "text": [
      "Id of hello at iteration 1 is 2952863769600\n",
      "id of hi is  2952864376760\n",
      "\n",
      "\n",
      "\n",
      "Id of hello at iteration 2 is 2952863769600\n",
      "id of hi is  2952864376352\n",
      "\n",
      "\n",
      "\n",
      "Id of hello at iteration 3 is 2952863769600\n",
      "id of hi is  2952864378256\n",
      "\n",
      "\n",
      "\n",
      "Id of hello at iteration 4 is 2952863769600\n",
      "id of hi is  2952864424552\n",
      "\n",
      "\n",
      "\n",
      "Id of hello at iteration 5 is 2952863769600\n",
      "id of hi is  2952864425640\n",
      "\n",
      "\n",
      "\n"
     ]
    }
   ],
   "source": [
    "def hello():\n",
    "    def hi():\n",
    "        pass\n",
    "    print(\"id of hi is \",id(hi))\n",
    "    hi()\n",
    "c = 1 \n",
    "while c <= 5 : \n",
    "    print(f\"Id of hello at iteration {c} is {id(hello)}\")\n",
    "    hello()\n",
    "    print(\"\\n\\n\")\n",
    "    c += 1"
   ]
  },
  {
   "cell_type": "code",
   "execution_count": 14,
   "metadata": {},
   "outputs": [
    {
     "name": "stdout",
     "output_type": "stream",
     "text": [
      "you can not drink according to Government Of India\n",
      "you can not drink according to Government Of India\n",
      "you can not drink according to Government Of India\n",
      "you can drink according to Government Of India\n",
      "you can drink according to Government Of India\n"
     ]
    }
   ],
   "source": [
    "# closure --> \n",
    "def hello(org):\n",
    "    org = org.strip().title() \n",
    "    def hi(age):\n",
    "        if age > 18 : \n",
    "            print(f\"you can drink according to {org}\")\n",
    "        else : \n",
    "            print(f\"you can not drink according to {org}\")\n",
    "    return hi\n",
    "    \n",
    "data =  hello(\"Government of India\")\n",
    "\n",
    "for var in range(16,21):\n",
    "    data(var)"
   ]
  },
  {
   "cell_type": "code",
   "execution_count": 15,
   "metadata": {},
   "outputs": [
    {
     "data": {
      "text/plain": [
       "<function __main__.hello.<locals>.hi(age)>"
      ]
     },
     "execution_count": 15,
     "metadata": {},
     "output_type": "execute_result"
    }
   ],
   "source": [
    "data"
   ]
  },
  {
   "cell_type": "code",
   "execution_count": 6,
   "metadata": {},
   "outputs": [
    {
     "name": "stdout",
     "output_type": "stream",
     "text": [
      "<built-in function print>\n"
     ]
    }
   ],
   "source": [
    "p  = print # alias\n",
    "\n",
    "print(p)"
   ]
  },
  {
   "cell_type": "code",
   "execution_count": 7,
   "metadata": {},
   "outputs": [
    {
     "name": "stdout",
     "output_type": "stream",
     "text": [
      "hello world\n"
     ]
    }
   ],
   "source": [
    "p('hello world')"
   ]
  },
  {
   "cell_type": "code",
   "execution_count": 8,
   "metadata": {},
   "outputs": [
    {
     "data": {
      "text/plain": [
       "True"
      ]
     },
     "execution_count": 8,
     "metadata": {},
     "output_type": "execute_result"
    }
   ],
   "source": [
    "id(p) == id(print)"
   ]
  },
  {
   "cell_type": "markdown",
   "metadata": {},
   "source": [
    "### Decorators"
   ]
  },
  {
   "cell_type": "code",
   "execution_count": 18,
   "metadata": {},
   "outputs": [],
   "source": [
    "def outer(func):\n",
    "    def inner(x,y):\n",
    "        print(\"pagal banaya bada mja aaya\")\n",
    "    return inner"
   ]
  },
  {
   "cell_type": "code",
   "execution_count": 20,
   "metadata": {},
   "outputs": [
    {
     "name": "stdout",
     "output_type": "stream",
     "text": [
      "pagal banaya bada mja aaya\n"
     ]
    }
   ],
   "source": [
    "@outer\n",
    "def add(x,y):\n",
    "    print(f\"{x}+{y} = {x+y}\")\n",
    "        \n",
    "#new_add = outer(add) \n",
    "#new_add(5,6)\n",
    "add(4,5)"
   ]
  },
  {
   "cell_type": "code",
   "execution_count": 24,
   "metadata": {},
   "outputs": [
    {
     "name": "stdout",
     "output_type": "stream",
     "text": [
      "pagal banaya bada mja aaya\n"
     ]
    }
   ],
   "source": [
    "def outer(func):\n",
    "    def inner(x,y):\n",
    "        print(\"pagal banaya bada mja aaya\")\n",
    "    return inner\n",
    "\n",
    "@outer\n",
    "def add(x,y):\n",
    "    print(f\"{x}+{y} = {x+y}\")\n",
    "    \n",
    "add(5,6)"
   ]
  },
  {
   "cell_type": "code",
   "execution_count": 33,
   "metadata": {},
   "outputs": [
    {
     "name": "stdout",
     "output_type": "stream",
     "text": [
      "************************************************************\n",
      "************************************************************\n",
      "\n",
      "9\n",
      "\n",
      "************************************************************\n",
      "************************************************************\n"
     ]
    }
   ],
   "source": [
    "def decorate(old_func):\n",
    "    def makeup(*args,**kwargs):\n",
    "        print(\"*\"*60)\n",
    "        print(\"*\"*60)\n",
    "        print()\n",
    "        old_func(*args,**kwargs)\n",
    "        print()\n",
    "        print(\"*\"*60)\n",
    "        print(\"*\"*60)\n",
    "    return makeup\n",
    "@decorate\n",
    "def add(x,y):\n",
    "    print(x+y)\n",
    "    \n",
    "add(4,5)"
   ]
  },
  {
   "cell_type": "code",
   "execution_count": 34,
   "metadata": {},
   "outputs": [
    {
     "name": "stdout",
     "output_type": "stream",
     "text": [
      "************************************************************\n",
      "************************************************************\n",
      "\n",
      "             Hello World Welcome to Decorators.             \n",
      "\n",
      "************************************************************\n",
      "************************************************************\n"
     ]
    }
   ],
   "source": [
    "\n",
    "@decorate\n",
    "def hello():\n",
    "    print(\"Hello World Welcome to Decorators.\".center(60))\n",
    "hello()"
   ]
  },
  {
   "cell_type": "code",
   "execution_count": 35,
   "metadata": {},
   "outputs": [],
   "source": [
    "@decorate\n",
    "def hello(name):\n",
    "    print(\"hello world \",name)"
   ]
  },
  {
   "cell_type": "code",
   "execution_count": 36,
   "metadata": {},
   "outputs": [
    {
     "name": "stdout",
     "output_type": "stream",
     "text": [
      "************************************************************\n",
      "************************************************************\n",
      "\n",
      "hello world  sachin\n",
      "\n",
      "************************************************************\n",
      "************************************************************\n"
     ]
    }
   ],
   "source": [
    "hello('sachin')"
   ]
  },
  {
   "cell_type": "code",
   "execution_count": 37,
   "metadata": {},
   "outputs": [],
   "source": [
    "@decorate\n",
    "def even(num):\n",
    "    if num %  2 : \n",
    "        print(f\"Given {num} is Odd.\".center(60))\n",
    "    else : \n",
    "        print(f\"Given {num} is Even\".center(60))"
   ]
  },
  {
   "cell_type": "code",
   "execution_count": 38,
   "metadata": {},
   "outputs": [
    {
     "name": "stdout",
     "output_type": "stream",
     "text": [
      "************************************************************\n",
      "************************************************************\n",
      "\n",
      "                      Given 13 is Odd.                      \n",
      "\n",
      "************************************************************\n",
      "************************************************************\n"
     ]
    }
   ],
   "source": [
    "even(13)"
   ]
  },
  {
   "cell_type": "markdown",
   "metadata": {},
   "source": [
    "## Special Functions of Python"
   ]
  },
  {
   "cell_type": "markdown",
   "metadata": {},
   "source": [
    "* **lamda**\n",
    "\n",
    "* **map**\n",
    "\n",
    "* **reduce**\n",
    "\n",
    "* **filter**\n",
    "\n",
    "* **generator**"
   ]
  },
  {
   "cell_type": "markdown",
   "metadata": {},
   "source": [
    "#### lambda is known as inline function or anonymous function of python"
   ]
  },
  {
   "cell_type": "markdown",
   "metadata": {},
   "source": [
    "syntax \n",
    "\n",
    "    func_name = lambda arg1, arg2, ... : return_value "
   ]
  },
  {
   "cell_type": "code",
   "execution_count": 40,
   "metadata": {},
   "outputs": [
    {
     "name": "stdout",
     "output_type": "stream",
     "text": [
      "Hello world\n"
     ]
    }
   ],
   "source": [
    "def hello():\n",
    "    print(\"Hello world\")\n",
    "hello()"
   ]
  },
  {
   "cell_type": "code",
   "execution_count": 41,
   "metadata": {},
   "outputs": [
    {
     "name": "stdout",
     "output_type": "stream",
     "text": [
      "Hello World\n"
     ]
    }
   ],
   "source": [
    "hello = lambda : print(\"Hello World\")\n",
    "hello()"
   ]
  },
  {
   "cell_type": "code",
   "execution_count": 46,
   "metadata": {},
   "outputs": [
    {
     "name": "stdout",
     "output_type": "stream",
     "text": [
      "x : 5\n",
      "y : 6\n",
      "Result = 11\n"
     ]
    }
   ],
   "source": [
    "def add(x,y):\n",
    "    return x + y\n",
    "print(f'Result = { add(int(input(\"x : \")),int(input(\"y : \")))}')"
   ]
  },
  {
   "cell_type": "code",
   "execution_count": 49,
   "metadata": {},
   "outputs": [
    {
     "name": "stdout",
     "output_type": "stream",
     "text": [
      "x : 5\n",
      "y : 6\n",
      "Result = 11\n"
     ]
    }
   ],
   "source": [
    "add = lambda x,y:x+y\n",
    "print(f'Result = { add(int(input(\"x : \")),int(input(\"y : \")))}')"
   ]
  },
  {
   "cell_type": "code",
   "execution_count": 50,
   "metadata": {},
   "outputs": [
    {
     "data": {
      "text/plain": [
       "'Odd'"
      ]
     },
     "execution_count": 50,
     "metadata": {},
     "output_type": "execute_result"
    }
   ],
   "source": [
    "def even(num):\n",
    "    if num % 2 : \n",
    "        return \"Odd\"\n",
    "    else : \n",
    "        return \"Even\"\n",
    "even(5)"
   ]
  },
  {
   "cell_type": "code",
   "execution_count": 51,
   "metadata": {},
   "outputs": [],
   "source": [
    "even = lambda num : \"Odd\" if num % 2 else \"Even\""
   ]
  },
  {
   "cell_type": "code",
   "execution_count": 52,
   "metadata": {},
   "outputs": [
    {
     "data": {
      "text/plain": [
       "'Odd'"
      ]
     },
     "execution_count": 52,
     "metadata": {},
     "output_type": "execute_result"
    }
   ],
   "source": [
    "even(11)"
   ]
  },
  {
   "cell_type": "code",
   "execution_count": 53,
   "metadata": {},
   "outputs": [
    {
     "data": {
      "text/plain": [
       "120"
      ]
     },
     "execution_count": 53,
     "metadata": {},
     "output_type": "execute_result"
    }
   ],
   "source": [
    "def fact(num):\n",
    "    if num == 1 : \n",
    "        return 1\n",
    "    return num*fact(num-1)\n",
    "fact(5)"
   ]
  },
  {
   "cell_type": "code",
   "execution_count": 54,
   "metadata": {},
   "outputs": [],
   "source": [
    "fact = lambda num : 1 if num == 1 else num*fact(num-1)"
   ]
  },
  {
   "cell_type": "code",
   "execution_count": 55,
   "metadata": {},
   "outputs": [
    {
     "data": {
      "text/plain": [
       "120"
      ]
     },
     "execution_count": 55,
     "metadata": {},
     "output_type": "execute_result"
    }
   ],
   "source": [
    "fact(5)"
   ]
  },
  {
   "cell_type": "code",
   "execution_count": 57,
   "metadata": {},
   "outputs": [
    {
     "data": {
      "text/plain": [
       "125"
      ]
     },
     "execution_count": 57,
     "metadata": {},
     "output_type": "execute_result"
    }
   ],
   "source": [
    "(lambda x:x**3)(5)"
   ]
  },
  {
   "cell_type": "code",
   "execution_count": 58,
   "metadata": {},
   "outputs": [
    {
     "name": "stdout",
     "output_type": "stream",
     "text": [
      "x : 5\n",
      "y : 6\n",
      "x**2 + y**2 =  61\n"
     ]
    }
   ],
   "source": [
    "print(f\"x**2 + y**2 = \",\n",
    "      (lambda x,y:x**2+y**2)(int(input(\"x : \")),int(input(\"y : \"))))"
   ]
  },
  {
   "cell_type": "code",
   "execution_count": 61,
   "metadata": {},
   "outputs": [
    {
     "data": {
      "text/plain": [
       "6"
      ]
     },
     "execution_count": 61,
     "metadata": {},
     "output_type": "execute_result"
    }
   ],
   "source": [
    "def greatest(a,b,c):\n",
    "    if a >= b and a >= c  : \n",
    "        return a\n",
    "    elif b >= c : \n",
    "        return b\n",
    "    else : \n",
    "        return c\n",
    "    \n",
    "greatest(5,4,6)"
   ]
  },
  {
   "cell_type": "code",
   "execution_count": 69,
   "metadata": {},
   "outputs": [
    {
     "name": "stdout",
     "output_type": "stream",
     "text": [
      "10 15 23\n",
      "23\n"
     ]
    }
   ],
   "source": [
    "x,y,z = map(int,input().split())\n",
    "greateset = lambda x,y,z : print(x) if x >= y and x >= z else print(y) if y >= z else  print(z)\n",
    "greateset(x,y,z)"
   ]
  },
  {
   "cell_type": "code",
   "execution_count": 70,
   "metadata": {},
   "outputs": [
    {
     "data": {
      "text/plain": [
       "True"
      ]
     },
     "execution_count": 70,
     "metadata": {},
     "output_type": "execute_result"
    }
   ],
   "source": [
    "from math import ceil,sqrt\n",
    "def prime(num,check=2):\n",
    "    if check == ceil(sqrt(num))+1 : \n",
    "        return True\n",
    "    elif num % check == 0 : \n",
    "        return False\n",
    "    else : \n",
    "        return prime(num,check+1)\n",
    "\n",
    "prime(127)"
   ]
  },
  {
   "cell_type": "code",
   "execution_count": 73,
   "metadata": {},
   "outputs": [],
   "source": [
    "prime = lambda num,check=2 : True if check == ceil(sqrt(num)) or num == 2 else False if num % check == 0 else prime(num,check+1)"
   ]
  },
  {
   "cell_type": "code",
   "execution_count": 74,
   "metadata": {},
   "outputs": [
    {
     "data": {
      "text/plain": [
       "True"
      ]
     },
     "execution_count": 74,
     "metadata": {},
     "output_type": "execute_result"
    }
   ],
   "source": [
    "prime(127)"
   ]
  },
  {
   "cell_type": "code",
   "execution_count": 75,
   "metadata": {},
   "outputs": [
    {
     "data": {
      "text/plain": [
       "True"
      ]
     },
     "execution_count": 75,
     "metadata": {},
     "output_type": "execute_result"
    }
   ],
   "source": [
    "prime(2)"
   ]
  },
  {
   "cell_type": "markdown",
   "metadata": {},
   "source": [
    "# Map "
   ]
  },
  {
   "cell_type": "code",
   "execution_count": 76,
   "metadata": {},
   "outputs": [
    {
     "data": {
      "text/plain": [
       "[1, 4, 9, 16, 25]"
      ]
     },
     "execution_count": 76,
     "metadata": {},
     "output_type": "execute_result"
    }
   ],
   "source": [
    "x =  [ '1','2','3','4','5']\n",
    "def seq(x):\n",
    "    return x ** 2\n",
    "\n",
    "y = [ seq(int(var)) for var in x ]\n",
    "y "
   ]
  },
  {
   "cell_type": "markdown",
   "metadata": {},
   "source": [
    "#### Syntax -->\n",
    "\n",
    "    map(func,sequence,sequence) --> map object"
   ]
  },
  {
   "cell_type": "code",
   "execution_count": 77,
   "metadata": {},
   "outputs": [],
   "source": [
    "def add(x,y):\n",
    "    return x +  y "
   ]
  },
  {
   "cell_type": "code",
   "execution_count": 79,
   "metadata": {},
   "outputs": [
    {
     "data": {
      "text/plain": [
       "[7, 9, 11, 13, 15]"
      ]
     },
     "execution_count": 79,
     "metadata": {},
     "output_type": "execute_result"
    }
   ],
   "source": [
    "l1 = [ 1,2,3,4,5]\n",
    "l2 = [ 6,7,8,9, 10]\n",
    "\n",
    "list(map(add,l1,l2))"
   ]
  },
  {
   "cell_type": "code",
   "execution_count": 82,
   "metadata": {},
   "outputs": [
    {
     "name": "stdout",
     "output_type": "stream",
     "text": [
      "4 9 16 25 36\n",
      "[2, 3, 4, 5, 6]\n"
     ]
    }
   ],
   "source": [
    "l1 =  [ 1,2,3,4,5]\n",
    "obj = map(lambda num:num**2,l1)\n",
    "l1.append(6)\n",
    "l1.pop(0)\n",
    "print(*obj)\n",
    "print(l1)"
   ]
  },
  {
   "cell_type": "code",
   "execution_count": 81,
   "metadata": {},
   "outputs": [
    {
     "name": "stdout",
     "output_type": "stream",
     "text": [
      "4 9 16 25 36\n",
      "[2, 3, 4, 5, 6]\n"
     ]
    }
   ],
   "source": [
    "l1 =  [ 1,2,3,4,5]\n",
    "obj = map(lambda num:num**2,l1)\n",
    "l1.append(6)\n",
    "l1.pop(0)\n",
    "print(*obj)\n",
    "print(l1)"
   ]
  },
  {
   "cell_type": "markdown",
   "metadata": {},
   "source": [
    "# lazy evaluation"
   ]
  },
  {
   "cell_type": "code",
   "execution_count": 83,
   "metadata": {},
   "outputs": [],
   "source": [
    "l1 = [ 1,2,3,4]\n",
    "l2 = [ 'hello','hi','bye','good bye']\n",
    "\n",
    "z = zip(l1,l2)"
   ]
  },
  {
   "cell_type": "code",
   "execution_count": 84,
   "metadata": {},
   "outputs": [
    {
     "data": {
      "text/plain": [
       "4"
      ]
     },
     "execution_count": 84,
     "metadata": {},
     "output_type": "execute_result"
    }
   ],
   "source": [
    "l1.pop()"
   ]
  },
  {
   "cell_type": "code",
   "execution_count": 86,
   "metadata": {},
   "outputs": [
    {
     "name": "stdout",
     "output_type": "stream",
     "text": [
      "\n"
     ]
    }
   ],
   "source": [
    "print(*z)"
   ]
  },
  {
   "cell_type": "code",
   "execution_count": 87,
   "metadata": {},
   "outputs": [],
   "source": [
    "l = [ 1,2,3,4,5,6,7,8]"
   ]
  },
  {
   "cell_type": "code",
   "execution_count": 88,
   "metadata": {},
   "outputs": [
    {
     "data": {
      "text/plain": [
       "[True, False, True, False, True, False, True, False]"
      ]
     },
     "execution_count": 88,
     "metadata": {},
     "output_type": "execute_result"
    }
   ],
   "source": [
    "list(map(lambda x:True if x % 2 else False,l))"
   ]
  },
  {
   "cell_type": "code",
   "execution_count": 89,
   "metadata": {},
   "outputs": [
    {
     "data": {
      "text/plain": [
       "[1, 3, 5, 7]"
      ]
     },
     "execution_count": 89,
     "metadata": {},
     "output_type": "execute_result"
    }
   ],
   "source": [
    "list(filter(lambda x:True if x % 2 else False,l))"
   ]
  },
  {
   "cell_type": "code",
   "execution_count": 90,
   "metadata": {},
   "outputs": [],
   "source": [
    "from functools import reduce"
   ]
  },
  {
   "cell_type": "code",
   "execution_count": 91,
   "metadata": {},
   "outputs": [
    {
     "data": {
      "text/plain": [
       "55"
      ]
     },
     "execution_count": 91,
     "metadata": {},
     "output_type": "execute_result"
    }
   ],
   "source": [
    "reduce(lambda x,y:x+y,[1,2,3,4,5,6,7,8,9,10])"
   ]
  },
  {
   "cell_type": "code",
   "execution_count": 92,
   "metadata": {},
   "outputs": [],
   "source": [
    "x = iter('python')"
   ]
  },
  {
   "cell_type": "code",
   "execution_count": 94,
   "metadata": {},
   "outputs": [
    {
     "data": {
      "text/plain": [
       "87600"
      ]
     },
     "execution_count": 94,
     "metadata": {},
     "output_type": "execute_result"
    }
   ],
   "source": [
    "[ var for var in range(10000) ].__sizeof__()"
   ]
  },
  {
   "cell_type": "code",
   "execution_count": 98,
   "metadata": {},
   "outputs": [
    {
     "data": {
      "text/plain": [
       "96"
      ]
     },
     "execution_count": 98,
     "metadata": {},
     "output_type": "execute_result"
    }
   ],
   "source": [
    "( var for var in range(10000000) ).__sizeof__()"
   ]
  },
  {
   "cell_type": "code",
   "execution_count": 99,
   "metadata": {},
   "outputs": [
    {
     "data": {
      "text/plain": [
       "generator"
      ]
     },
     "execution_count": 99,
     "metadata": {},
     "output_type": "execute_result"
    }
   ],
   "source": [
    "type((var for var in range(5)))"
   ]
  },
  {
   "cell_type": "code",
   "execution_count": 108,
   "metadata": {},
   "outputs": [],
   "source": [
    "def mygen(start=1,end=10):\n",
    "    while start <= end  : \n",
    "        yield chr(start+64)\n",
    "        start += 1\n",
    "        "
   ]
  },
  {
   "cell_type": "code",
   "execution_count": 109,
   "metadata": {},
   "outputs": [
    {
     "data": {
      "text/plain": [
       "generator"
      ]
     },
     "execution_count": 109,
     "metadata": {},
     "output_type": "execute_result"
    }
   ],
   "source": [
    "type(mygen())"
   ]
  },
  {
   "cell_type": "code",
   "execution_count": 111,
   "metadata": {},
   "outputs": [
    {
     "name": "stdout",
     "output_type": "stream",
     "text": [
      "O\n",
      "P\n",
      "Q\n",
      "R\n",
      "S\n",
      "T\n",
      "U\n",
      "V\n",
      "W\n",
      "X\n",
      "Y\n",
      "Z\n"
     ]
    }
   ],
   "source": [
    "for var in mygen(15,26):\n",
    "    print(var)"
   ]
  },
  {
   "cell_type": "code",
   "execution_count": 112,
   "metadata": {},
   "outputs": [],
   "source": [
    "def hello():\n",
    "    return 0\n",
    "    return 1\n",
    "    return 2\n"
   ]
  },
  {
   "cell_type": "code",
   "execution_count": 114,
   "metadata": {},
   "outputs": [],
   "source": [
    "x = hello()"
   ]
  },
  {
   "cell_type": "code",
   "execution_count": 115,
   "metadata": {},
   "outputs": [
    {
     "data": {
      "text/plain": [
       "int"
      ]
     },
     "execution_count": 115,
     "metadata": {},
     "output_type": "execute_result"
    }
   ],
   "source": [
    "type(x)"
   ]
  },
  {
   "cell_type": "code",
   "execution_count": 116,
   "metadata": {},
   "outputs": [
    {
     "data": {
      "text/plain": [
       "0"
      ]
     },
     "execution_count": 116,
     "metadata": {},
     "output_type": "execute_result"
    }
   ],
   "source": [
    "x"
   ]
  },
  {
   "cell_type": "code",
   "execution_count": 117,
   "metadata": {},
   "outputs": [],
   "source": [
    "def hello():\n",
    "    yield 0\n",
    "    yield 1\n",
    "    "
   ]
  },
  {
   "cell_type": "code",
   "execution_count": 118,
   "metadata": {},
   "outputs": [],
   "source": [
    "x = hello()"
   ]
  },
  {
   "cell_type": "code",
   "execution_count": 119,
   "metadata": {},
   "outputs": [
    {
     "data": {
      "text/plain": [
       "generator"
      ]
     },
     "execution_count": 119,
     "metadata": {},
     "output_type": "execute_result"
    }
   ],
   "source": [
    "type(x)"
   ]
  },
  {
   "cell_type": "code",
   "execution_count": 121,
   "metadata": {},
   "outputs": [
    {
     "data": {
      "text/plain": [
       "0"
      ]
     },
     "execution_count": 121,
     "metadata": {},
     "output_type": "execute_result"
    }
   ],
   "source": [
    "next(x)"
   ]
  },
  {
   "cell_type": "code",
   "execution_count": 122,
   "metadata": {},
   "outputs": [
    {
     "data": {
      "text/plain": [
       "1"
      ]
     },
     "execution_count": 122,
     "metadata": {},
     "output_type": "execute_result"
    }
   ],
   "source": [
    "next(x)"
   ]
  },
  {
   "cell_type": "code",
   "execution_count": 123,
   "metadata": {},
   "outputs": [
    {
     "ename": "StopIteration",
     "evalue": "",
     "output_type": "error",
     "traceback": [
      "\u001b[1;31m---------------------------------------------------------------------------\u001b[0m",
      "\u001b[1;31mStopIteration\u001b[0m                             Traceback (most recent call last)",
      "\u001b[1;32m<ipython-input-123-92de4e9f6b1e>\u001b[0m in \u001b[0;36m<module>\u001b[1;34m\u001b[0m\n\u001b[1;32m----> 1\u001b[1;33m \u001b[0mnext\u001b[0m\u001b[1;33m(\u001b[0m\u001b[0mx\u001b[0m\u001b[1;33m)\u001b[0m\u001b[1;33m\u001b[0m\u001b[1;33m\u001b[0m\u001b[0m\n\u001b[0m",
      "\u001b[1;31mStopIteration\u001b[0m: "
     ]
    }
   ],
   "source": [
    "next(x)"
   ]
  },
  {
   "cell_type": "code",
   "execution_count": null,
   "metadata": {},
   "outputs": [],
   "source": []
  }
 ],
 "metadata": {
  "kernelspec": {
   "display_name": "Python 3",
   "language": "python",
   "name": "python3"
  },
  "language_info": {
   "codemirror_mode": {
    "name": "ipython",
    "version": 3
   },
   "file_extension": ".py",
   "mimetype": "text/x-python",
   "name": "python",
   "nbconvert_exporter": "python",
   "pygments_lexer": "ipython3",
   "version": "3.7.1"
  }
 },
 "nbformat": 4,
 "nbformat_minor": 2
}

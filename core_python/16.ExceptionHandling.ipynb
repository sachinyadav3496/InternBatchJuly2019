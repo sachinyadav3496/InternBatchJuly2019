{
 "cells": [
  {
   "cell_type": "markdown",
   "metadata": {},
   "source": [
    "### Exception"
   ]
  },
  {
   "cell_type": "markdown",
   "metadata": {},
   "source": [
    "**unwanted errors**\n",
    "\n",
    "**logical errors**\n",
    "\n",
    "**runtime errors**"
   ]
  },
  {
   "cell_type": "code",
   "execution_count": 3,
   "metadata": {},
   "outputs": [
    {
     "name": "stdout",
     "output_type": "stream",
     "text": [
      "Something : alskjf\n"
     ]
    },
    {
     "ename": "ValueError",
     "evalue": "invalid literal for int() with base 10: 'alskjf'",
     "output_type": "error",
     "traceback": [
      "\u001b[1;31m---------------------------------------------------------------------------\u001b[0m",
      "\u001b[1;31mValueError\u001b[0m                                Traceback (most recent call last)",
      "\u001b[1;32m<ipython-input-3-14197c1d8324>\u001b[0m in \u001b[0;36m<module>\u001b[1;34m\u001b[0m\n\u001b[1;32m----> 1\u001b[1;33m \u001b[0mx\u001b[0m \u001b[1;33m=\u001b[0m \u001b[0mint\u001b[0m\u001b[1;33m(\u001b[0m\u001b[0minput\u001b[0m\u001b[1;33m(\u001b[0m\u001b[1;34m\"Something : \"\u001b[0m\u001b[1;33m)\u001b[0m\u001b[1;33m)\u001b[0m\u001b[1;33m\u001b[0m\u001b[1;33m\u001b[0m\u001b[0m\n\u001b[0m\u001b[0;32m      2\u001b[0m \u001b[0mprint\u001b[0m\u001b[1;33m(\u001b[0m\u001b[0mx\u001b[0m\u001b[1;33m)\u001b[0m\u001b[1;33m\u001b[0m\u001b[1;33m\u001b[0m\u001b[0m\n",
      "\u001b[1;31mValueError\u001b[0m: invalid literal for int() with base 10: 'alskjf'"
     ]
    }
   ],
   "source": [
    "x = int(input(\"Something : \"))\n",
    "print(x)"
   ]
  },
  {
   "cell_type": "code",
   "execution_count": 10,
   "metadata": {},
   "outputs": [
    {
     "name": "stdout",
     "output_type": "stream",
     "text": [
      "Enter a number : 5\n",
      "Enter another number : 0\n",
      "Error!! Something Went Wrong\n",
      "To free up your resources\n"
     ]
    }
   ],
   "source": [
    "try : \n",
    "    x = int(input(\"Enter a number : \"))\n",
    "    y = int(input(\"Enter another number : \"))\n",
    "    result = x / y\n",
    "except : \n",
    "    print(\"Error!! Something Went Wrong\")\n",
    "else : \n",
    "    print(f\"Done!!! result is {result:.2f}\")\n",
    "finally : \n",
    "    print(\"To free up your resources\")\n"
   ]
  },
  {
   "cell_type": "code",
   "execution_count": 15,
   "metadata": {},
   "outputs": [
    {
     "name": "stdout",
     "output_type": "stream",
     "text": [
      "Enter a number : 10\n",
      "Enter another number : 0\n",
      "Error!! Something Went Wrong\n",
      " division by zero\n",
      "To free up your resources\n"
     ]
    }
   ],
   "source": [
    "try : \n",
    "    x = int(input(\"Enter a number : \"))\n",
    "    y = int(input(\"Enter another number : \"))\n",
    "    result = x / y\n",
    "except BaseException as arg : \n",
    "    print(\"Error!! Something Went Wrong\\n\",arg)\n",
    "else : \n",
    "    print(f\"Done!!! result is {result:.2f}\")\n",
    "finally : \n",
    "    print(\"To free up your resources\")\n"
   ]
  },
  {
   "cell_type": "code",
   "execution_count": 14,
   "metadata": {},
   "outputs": [
    {
     "name": "stdout",
     "output_type": "stream",
     "text": [
      "alskdjfkla;lskdjf\n"
     ]
    },
    {
     "ename": "ValueError",
     "evalue": "invalid literal for int() with base 10: 'a;lskdjf'",
     "output_type": "error",
     "traceback": [
      "\u001b[1;31m---------------------------------------------------------------------------\u001b[0m",
      "\u001b[1;31mValueError\u001b[0m                                Traceback (most recent call last)",
      "\u001b[1;32m<ipython-input-14-61219343a9af>\u001b[0m in \u001b[0;36m<module>\u001b[1;34m\u001b[0m\n\u001b[1;32m----> 1\u001b[1;33m \u001b[0mint\u001b[0m\u001b[1;33m(\u001b[0m\u001b[0minput\u001b[0m\u001b[1;33m(\u001b[0m\u001b[1;34m'alskdjfkl'\u001b[0m\u001b[1;33m)\u001b[0m\u001b[1;33m)\u001b[0m\u001b[1;33m\u001b[0m\u001b[1;33m\u001b[0m\u001b[0m\n\u001b[0m",
      "\u001b[1;31mValueError\u001b[0m: invalid literal for int() with base 10: 'a;lskdjf'"
     ]
    }
   ],
   "source": [
    "int(input('alskdjfkl'))"
   ]
  },
  {
   "cell_type": "code",
   "execution_count": 18,
   "metadata": {},
   "outputs": [
    {
     "name": "stdout",
     "output_type": "stream",
     "text": [
      "Enter a number : 10\n",
      "Enter another number : 0\n",
      "!!Waahh!! Einstein ki aaulad zero se koi divide krta hai ky\n",
      "To free up your resources\n"
     ]
    }
   ],
   "source": [
    "try : \n",
    "    x = int(input(\"Enter a number : \"))\n",
    "    y = int(input(\"Enter another number : \"))\n",
    "    result = x / y\n",
    "except ValueError as e : \n",
    "    print(\"!!Error!!Gadhe number manga string nh \")\n",
    "except ZeroDivisionError as e : \n",
    "    print(\"!!Waahh!! Einstein ki aaulad zero se koi divide krta hai ky\")\n",
    "except Exception as arg : \n",
    "    print(\"Error!! Something Went Wrong\\n\",arg)\n",
    "else : \n",
    "    print(f\"Done!!! result is {result:.2f}\")\n",
    "finally : \n",
    "    print(\"To free up your resources\")\n"
   ]
  },
  {
   "cell_type": "markdown",
   "metadata": {},
   "source": [
    "### write a code to take only integer input  ? "
   ]
  },
  {
   "cell_type": "code",
   "execution_count": 19,
   "metadata": {},
   "outputs": [
    {
     "name": "stdout",
     "output_type": "stream",
     "text": [
      "Enter an integer number : sdfdsjf\n",
      "!!!!I Said Only Integer!!!!\n",
      "Enter an integer number : 234.34\n",
      "!!!!I Said Only Integer!!!!\n",
      "Enter an integer number : 234+34j\n",
      "!!!!I Said Only Integer!!!!\n",
      "Enter an integer number : 34\n",
      "Good Boy\n",
      "Number is  34\n"
     ]
    }
   ],
   "source": [
    "while True : \n",
    "    try :\n",
    "        number = int(input(\"Enter an integer number : \"))\n",
    "    except ValueError as e : \n",
    "        print(\"!!!!I Said Only Integer!!!!\")\n",
    "    else : \n",
    "        print(\"Good Boy\")\n",
    "        print(\"Number is \",number)\n",
    "        break"
   ]
  },
  {
   "cell_type": "code",
   "execution_count": 21,
   "metadata": {},
   "outputs": [
    {
     "name": "stdout",
     "output_type": "stream",
     "text": [
      "Enter an integer number : -123\n",
      "!!Error!! Only Positive Numbers are allowed\n",
      "!!!!I Said Positive Integer Only!!!!\n",
      "Enter an integer number : -123\n",
      "!!Error!! Only Positive Numbers are allowed\n",
      "!!!!I Said Positive Integer Only!!!!\n",
      "Enter an integer number : 6\n",
      "Good Boy\n",
      "Number is  6\n"
     ]
    }
   ],
   "source": [
    "# custom exception\n",
    "while True : \n",
    "    try :\n",
    "        number = int(input(\"Enter an integer number : \"))\n",
    "        if number < 0 : \n",
    "            raise ValueError(\"Only Positive Numbers are allowed\")\n",
    "    except ValueError as e : \n",
    "        print(\"!!Error!!\",e)\n",
    "        print(\"!!!!I Said Positive Integer Only!!!!\")\n",
    "    else : \n",
    "        print(\"Good Boy\")\n",
    "        print(\"Number is \",number)\n",
    "        break"
   ]
  },
  {
   "cell_type": "code",
   "execution_count": 22,
   "metadata": {},
   "outputs": [
    {
     "name": "stdout",
     "output_type": "stream",
     "text": [
      "Enter an integer number : -348\n",
      "!!Error!! Only Positive Numbers are allowed\n",
      "!!!!I Said Positive Integer Only!!!!\n",
      "Enter an integer number : 334\n",
      "Good Boy\n",
      "Number is  334\n"
     ]
    }
   ],
   "source": [
    "# custom exception\n",
    "while True : \n",
    "    try :\n",
    "        number = int(input(\"Enter an integer number : \"))\n",
    "        assert number > 0  ,\"Only Positive Numbers are allowed\"\n",
    "    except AssertionError as e : \n",
    "        print(\"!!Error!!\",e)\n",
    "        print(\"!!!!I Said Positive Integer Only!!!!\")\n",
    "    else : \n",
    "        print(\"Good Boy\")\n",
    "        print(\"Number is \",number)\n",
    "        break"
   ]
  },
  {
   "cell_type": "code",
   "execution_count": 23,
   "metadata": {},
   "outputs": [],
   "source": [
    "class myError(Exception):\n",
    "    def __init__(self,arg):\n",
    "        self.arg = arg\n",
    "    def __repr__(self):\n",
    "        return self.arg"
   ]
  },
  {
   "cell_type": "code",
   "execution_count": 24,
   "metadata": {},
   "outputs": [
    {
     "ename": "myError",
     "evalue": "hello world to my own custom error",
     "output_type": "error",
     "traceback": [
      "\u001b[1;31m---------------------------------------------------------------------------\u001b[0m",
      "\u001b[1;31mmyError\u001b[0m                                   Traceback (most recent call last)",
      "\u001b[1;32m<ipython-input-24-3269c26f49ed>\u001b[0m in \u001b[0;36m<module>\u001b[1;34m\u001b[0m\n\u001b[1;32m----> 1\u001b[1;33m \u001b[1;32mraise\u001b[0m \u001b[0mmyError\u001b[0m\u001b[1;33m(\u001b[0m\u001b[1;34m\"hello world to my own custom error\"\u001b[0m\u001b[1;33m)\u001b[0m\u001b[1;33m\u001b[0m\u001b[1;33m\u001b[0m\u001b[0m\n\u001b[0m",
      "\u001b[1;31mmyError\u001b[0m: hello world to my own custom error"
     ]
    }
   ],
   "source": [
    "raise myError(\"hello world to my own custom error\")"
   ]
  },
  {
   "cell_type": "code",
   "execution_count": null,
   "metadata": {},
   "outputs": [],
   "source": []
  }
 ],
 "metadata": {
  "kernelspec": {
   "display_name": "Python 3",
   "language": "python",
   "name": "python3"
  },
  "language_info": {
   "codemirror_mode": {
    "name": "ipython",
    "version": 3
   },
   "file_extension": ".py",
   "mimetype": "text/x-python",
   "name": "python",
   "nbconvert_exporter": "python",
   "pygments_lexer": "ipython3",
   "version": "3.7.3"
  }
 },
 "nbformat": 4,
 "nbformat_minor": 2
}

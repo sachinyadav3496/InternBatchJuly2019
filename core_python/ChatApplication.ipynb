{
 "cells": [
  {
   "cell_type": "code",
   "execution_count": 1,
   "metadata": {},
   "outputs": [],
   "source": [
    "import socket"
   ]
  },
  {
   "cell_type": "code",
   "execution_count": 2,
   "metadata": {},
   "outputs": [
    {
     "data": {
      "text/plain": [
       "('HD-a80f', [], ['192.168.43.19'])"
      ]
     },
     "execution_count": 2,
     "metadata": {},
     "output_type": "execute_result"
    }
   ],
   "source": [
    "socket.gethostbyaddr(\"192.168.43.19\")"
   ]
  },
  {
   "cell_type": "code",
   "execution_count": 3,
   "metadata": {},
   "outputs": [
    {
     "name": "stdout",
     "output_type": "stream",
     "text": [
      "Got a connection from client  192.168.43.19 51276\n",
      "Here is what client has requested \n",
      "GET / HTTP/1.1\r\n",
      "Host: 192.168.43.249:12345\r\n",
      "Connection: keep-alive\r\n",
      "Upgrade-Insecure-Requests: 1\r\n",
      "User-Agent: Mozilla/5.0 (Windows NT 10.0; Win64; x64) AppleWebKit/537.36 (KHTML, like Gecko) Chrome/75.0.3770.90 Safari/537.36\r\n",
      "Accept: text/html,application/xhtml+xml,application/xml;q=0.9,image/webp,image/apng,*/*;q=0.8,application/signed-exchange;v=b3\r\n",
      "Accept-Encoding: gzip, deflate\r\n",
      "Accept-Language: en-US,en;q=0.9\r\n",
      "\r\n",
      "\n"
     ]
    }
   ],
   "source": [
    "server = socket.socket()\n",
    "server.bind((\"192.168.43.249\",12345))\n",
    "server.listen()\n",
    "\n",
    "\n",
    "client,addr = server.accept()\n",
    "\n",
    "print(\"Got a connection from client \",*addr)\n",
    "\n",
    "req = client.recv(1024).decode()\n",
    "\n",
    "print(\"Here is what client has requested \")\n",
    "\n",
    "print(req)\n",
    "\n",
    "resp = \"\"\"HTTP 200 OK\n",
    "Content-type:text/html\n",
    "\n",
    "\n",
    "<h1 style='color:red'>This is how internet works</h1>\"\"\"\n",
    "client.send(resp.encode())\n",
    "client.close()\n",
    "server.close()"
   ]
  },
  {
   "cell_type": "code",
   "execution_count": 5,
   "metadata": {},
   "outputs": [
    {
     "name": "stdout",
     "output_type": "stream",
     "text": [
      "Server is Listning at 192.168.43.249:12345 \n",
      "Got a Connection from 192.168.43.19:51852\n",
      "Server--->hi\n",
      "                                                           Client-->hi\n",
      "Server--->hello how are you\n",
      "                                        Client-->fine grt what about u\n",
      "Server--->smjh m aaya kya ? \n",
      "                                                      Client-->nhi sir\n",
      "Server--->magjh m aaya kya ? \n",
      "                                                          Client-->bye\n",
      "Connection Closed by Client\n"
     ]
    }
   ],
   "source": [
    "# server script \n",
    "import socket \n",
    "server = socket.socket()\n",
    "server.bind((\"192.168.43.249\",12345))\n",
    "server.listen()\n",
    "\n",
    "print(\"Server is Listning at 192.168.43.249:12345 \")\n",
    "client, addr = server.accept()\n",
    "print(f\"Got a Connection from {addr[0]}:{addr[1]}\")\n",
    "\n",
    "while True : \n",
    "    msg = input(\"Server--->\")\n",
    "    client.send(msg.encode())\n",
    "    if msg.strip().lower() == 'bye' : \n",
    "        print(\"Connection Closed by Server\")\n",
    "        client.close()\n",
    "        server.close()\n",
    "        break\n",
    "    msg = client.recv(1024).decode()\n",
    "    print(f\"Client-->{msg}\".rjust(70))\n",
    "    if msg.lower().strip() == 'bye' : \n",
    "        print(\"Connection Closed by Client\")\n",
    "        client.close()\n",
    "        server.close()\n",
    "        break"
   ]
  },
  {
   "cell_type": "code",
   "execution_count": null,
   "metadata": {},
   "outputs": [],
   "source": [
    "# server script \n",
    "\n",
    "import socket \n",
    "client = socket.socket()\n",
    "ip = input(\"Enter server's ip : \")\n",
    "port = int(input(\"Enter server's port : \"))\n",
    "\n",
    "print(f\"Requesting to Server at {ip}:{port} \")\n",
    "client.connect((ip,port))\n",
    "print(f\"Got a Connection from {ip}:{port}\")\n",
    "\n",
    "while True : \n",
    "    msg = client.recv(1024).decode()\n",
    "    print(f\"Server-->{msg}\".rjust(70))\n",
    "    if msg.lower().strip() == 'bye' : \n",
    "        print(\"Connection Closed by Server\")\n",
    "        client.close()\n",
    "        server.close()\n",
    "        break\n",
    "    \n",
    "    \n",
    "    msg = input(\"Client--->\")\n",
    "    client.send(msg)\n",
    "    if msg.strip().lower() == 'bye' : \n",
    "        print(\"Connection Closed by Client\")\n",
    "        client.close()\n",
    "        server.close()\n",
    "        break\n",
    "    "
   ]
  },
  {
   "cell_type": "code",
   "execution_count": 10,
   "metadata": {},
   "outputs": [
    {
     "name": "stdout",
     "output_type": "stream",
     "text": [
      "b'\\xef\\xbb\\xbf#script\\r\\n'\n",
      "b'print(\"*\"*60)\\r\\n'\n",
      "b'print(\"*\"*60)\\r\\n'\n",
      "b'print()\\r\\n'\n",
      "b'print(\"Hello World to Python\")\\r\\n'\n",
      "b'name = input(\"Enter your name : \")\\r\\n'\n",
      "b'print(f\"Welcome user {name}, Python is Awesome\")\\r\\n'\n",
      "b'print()\\r\\n'\n",
      "b'print(\"*\"*60)\\r\\n'\n",
      "b'print(\"*\"*60)\\r\\n'\n"
     ]
    }
   ],
   "source": [
    "\n",
    "file = open(\"hello.py\",\"rb\")\n",
    "file_copy = open(\"bye.py\",\"wb\")\n",
    "for line in file : \n",
    "    print(line)\n",
    "    file_copy.write(line)\n",
    "else : \n",
    "    file.close()\n",
    "    file_copy.close()"
   ]
  },
  {
   "cell_type": "code",
   "execution_count": null,
   "metadata": {},
   "outputs": [],
   "source": []
  }
 ],
 "metadata": {
  "kernelspec": {
   "display_name": "Python 3",
   "language": "python",
   "name": "python3"
  },
  "language_info": {
   "codemirror_mode": {
    "name": "ipython",
    "version": 3
   },
   "file_extension": ".py",
   "mimetype": "text/x-python",
   "name": "python",
   "nbconvert_exporter": "python",
   "pygments_lexer": "ipython3",
   "version": "3.7.1"
  }
 },
 "nbformat": 4,
 "nbformat_minor": 2
}

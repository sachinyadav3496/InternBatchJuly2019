{
 "cells": [
  {
   "cell_type": "code",
   "execution_count": 1,
   "metadata": {},
   "outputs": [
    {
     "name": "stdout",
     "output_type": "stream",
     "text": [
      "Hello World Times 1\n",
      "Hello World Times 2\n",
      "Hello World Times 3\n",
      "Hello World Times 4\n",
      "Hello World Times 5\n"
     ]
    }
   ],
   "source": [
    "c = 1 \n",
    "while c <= 5 : \n",
    "    print(f\"Hello World Times {c}\")\n",
    "    c = c + 1"
   ]
  },
  {
   "cell_type": "code",
   "execution_count": 13,
   "metadata": {},
   "outputs": [
    {
     "name": "stdout",
     "output_type": "stream",
     "text": [
      "Enter a number : 5\n",
      "5     *     1 \t=     5 \n",
      "5     *     2 \t=    10 \n",
      "5     *     3 \t=    15 \n",
      "5     *     4 \t=    20 \n",
      "5     *     5 \t=    25 \n",
      "5     *     6 \t=    30 \n",
      "5     *     7 \t=    35 \n",
      "5     *     8 \t=    40 \n",
      "5     *     9 \t=    45 \n",
      "5     *    10 \t=    50 \n",
      "Loop Completed Sucessfully\n"
     ]
    }
   ],
   "source": [
    "num = int(input(\"Enter a number : \"))\n",
    "c  = 1\n",
    "while c <= 10 : \n",
    "    print(f\"{num:<5} * {c:>5} \\t= {num*c:>5} \")\n",
    "    c = c + 1\n",
    "else  : \n",
    "    print(\"Loop Completed Sucessfully\")"
   ]
  },
  {
   "cell_type": "code",
   "execution_count": 20,
   "metadata": {},
   "outputs": [
    {
     "name": "stdout",
     "output_type": "stream",
     "text": [
      "Enter a number : 5\n",
      "5     **     1 \t=\t 5     \n",
      "5     **     2 \t=\t 25    \n",
      "5     **     3 \t=\t 125   \n",
      "5     **     4 \t=\t 625   \n",
      "5     **     5 \t=\t 3125  \n",
      "5     **     6 \t=\t 15625 \n",
      "5     **     7 \t=\t 78125 \n",
      "5     **     8 \t=\t 390625 \n",
      "5     **     9 \t=\t 1953125 \n",
      "5     **    10 \t=\t 9765625 \n",
      "Loop Completed Sucessfully\n"
     ]
    }
   ],
   "source": [
    "num = int(input(\"Enter a number : \"))\n",
    "c  = 1\n",
    "while c <= 10 : \n",
    "    print(f\"{num:<5} ** {c:>5} \\t=\\t {num**c:<5} \")\n",
    "    c = c + 1\n",
    "else  : \n",
    "    print(\"Loop Completed Sucessfully\")"
   ]
  },
  {
   "cell_type": "code",
   "execution_count": 21,
   "metadata": {},
   "outputs": [
    {
     "name": "stdout",
     "output_type": "stream",
     "text": [
      "Hello World Times 1 \n",
      "Hello World Times 2 \n",
      "Hello World Times 4 \n",
      "Hello World Times 6 \n",
      "Hello World Times 8 \n",
      "Hello World Times 10 \n",
      "Counter is Done\n"
     ]
    }
   ],
   "source": [
    "c = 1\n",
    "while c <= 10 : \n",
    "    print(f\"Hello World Times {c} \")\n",
    "    if c % 2 : \n",
    "        c += 1\n",
    "    else : \n",
    "        c += 2 \n",
    "else :\n",
    "    print(\"Counter is Done\")"
   ]
  },
  {
   "cell_type": "code",
   "execution_count": 22,
   "metadata": {},
   "outputs": [],
   "source": [
    "# break \n",
    "c = 1 \n",
    "while c <= 10 : \n",
    "    break\n",
    "    print(\"hello world\")\n",
    "else : \n",
    "    print(\"hi world\")"
   ]
  },
  {
   "cell_type": "code",
   "execution_count": 1,
   "metadata": {},
   "outputs": [
    {
     "name": "stdout",
     "output_type": "stream",
     "text": [
      "2\n",
      "4\n"
     ]
    }
   ],
   "source": [
    "c = 0 \n",
    "while c <= 10 : \n",
    "    c += 2 \n",
    "    if c % 3 == 0 : \n",
    "        break\n",
    "    print(c)\n",
    "else :\n",
    "    print(\"Hi\")"
   ]
  },
  {
   "cell_type": "code",
   "execution_count": null,
   "metadata": {},
   "outputs": [],
   "source": [
    "c = 1\n",
    "while c <= 10 : \n",
    "    continue \n",
    "    print(\"hello world\")\n",
    "    c = c + 2\n",
    "else : \n",
    "    print(\"What the hack is continue ?\")"
   ]
  },
  {
   "cell_type": "code",
   "execution_count": 1,
   "metadata": {},
   "outputs": [
    {
     "name": "stdout",
     "output_type": "stream",
     "text": [
      "What the hack is continue ?\n"
     ]
    }
   ],
   "source": [
    "c = 1\n",
    "while c <= 10 :\n",
    "    c = c + 2\n",
    "    continue \n",
    "    print(\"hello world\")\n",
    "else : \n",
    "    print(\"What the hack is continue ?\")"
   ]
  },
  {
   "cell_type": "code",
   "execution_count": 2,
   "metadata": {},
   "outputs": [
    {
     "name": "stdout",
     "output_type": "stream",
     "text": [
      "hello world c\n"
     ]
    }
   ],
   "source": [
    "c = 1\n",
    "while c <= 10 :\n",
    "    c += 1\n",
    "    print(f\"hello world c\")\n",
    "    if c % 2 : \n",
    "        continue\n",
    "    else : \n",
    "        break \n",
    "    c += 1\n",
    "else : \n",
    "    print(\"hello world welcome to loops ?\")\n",
    "        "
   ]
  },
  {
   "cell_type": "code",
   "execution_count": 3,
   "metadata": {},
   "outputs": [
    {
     "name": "stdout",
     "output_type": "stream",
     "text": [
      "Hello world times 0\n",
      "hi world times 2\n",
      "Hello world times 4\n",
      "hi world times 6\n",
      "Hello world times 8\n",
      "hi world times 10\n",
      "apna time aayega ? \n"
     ]
    }
   ],
   "source": [
    "c = 0 \n",
    "while c <= 10 : \n",
    "    if c % 2 : \n",
    "        c += 1\n",
    "        continue\n",
    "    else : \n",
    "        print(f\"Hello world times {c}\")\n",
    "        c += 2\n",
    "    print(f\"hi world times {c}\")\n",
    "    c += 1\n",
    "else : \n",
    "    print(\"apna time aayega ? \")"
   ]
  },
  {
   "cell_type": "code",
   "execution_count": 4,
   "metadata": {},
   "outputs": [
    {
     "name": "stdout",
     "output_type": "stream",
     "text": [
      "Hello world times 0\n",
      "hi world times 2\n",
      "Hello world times 2\n",
      "hi world times 4\n",
      "Hello world times 4\n",
      "hi world times 6\n",
      "Hello world times 6\n",
      "hi world times 8\n",
      "Hello world times 8\n",
      "hi world times 10\n",
      "Hello world times 10\n",
      "hi world times 12\n",
      "apna time aayega ? \n"
     ]
    }
   ],
   "source": [
    "c = 0 \n",
    "while c <= 10 : \n",
    "    if c % 2 : \n",
    "        c += 1\n",
    "        continue\n",
    "    else : \n",
    "        print(f\"Hello world times {c}\")\n",
    "        c += 2\n",
    "    print(f\"hi world times {c}\")\n",
    "    c -= 1\n",
    "else : \n",
    "    print(\"apna time aayega ? \")"
   ]
  },
  {
   "cell_type": "code",
   "execution_count": 5,
   "metadata": {},
   "outputs": [
    {
     "name": "stdout",
     "output_type": "stream",
     "text": [
      "\n",
      "37\n",
      "\n",
      "4\n",
      "\n",
      "43\n",
      "\n",
      "88\n",
      "\n",
      "86\n",
      "\n",
      "6\n",
      "\n",
      "63\n",
      "\n",
      "51\n",
      "\n",
      "15\n",
      "\n",
      "19\n",
      "\n",
      "75\n",
      "\n",
      "25\n",
      "\n",
      "34\n",
      "\n",
      "20\n",
      "\n",
      "41\n",
      "\n",
      "76\n",
      "\n",
      "8\n",
      "\n",
      "48\n",
      "h\n",
      "Condition Condition karti rhati hai \n"
     ]
    }
   ],
   "source": [
    "from random import randint,choice \n",
    "\n",
    "while not input() : \n",
    "    print(randint(1,100))\n",
    "else :\n",
    "    print(\"Condition Condition karti rhati hai \")"
   ]
  },
  {
   "cell_type": "code",
   "execution_count": 2,
   "metadata": {},
   "outputs": [
    {
     "name": "stdout",
     "output_type": "stream",
     "text": [
      "\n",
      "Name[1] : rahul\n",
      "\n",
      "Name[2] : raj\n",
      "\n",
      "Name[3] : simaran\n",
      "\n",
      "Name[4] : yahoo\n",
      "ldkjf\n"
     ]
    }
   ],
   "source": [
    "from random import choice \n",
    "names = []\n",
    "c = 1\n",
    "while not input() : \n",
    "    names.append(input(f\"Name[{c}] : \"))\n",
    "    c = c + 1"
   ]
  },
  {
   "cell_type": "code",
   "execution_count": 3,
   "metadata": {},
   "outputs": [
    {
     "data": {
      "text/plain": [
       "['rahul', 'raj', 'simaran', 'yahoo']"
      ]
     },
     "execution_count": 3,
     "metadata": {},
     "output_type": "execute_result"
    }
   ],
   "source": [
    "names"
   ]
  },
  {
   "cell_type": "code",
   "execution_count": 4,
   "metadata": {},
   "outputs": [
    {
     "name": "stdout",
     "output_type": "stream",
     "text": [
      "j\n",
      "simaran\n",
      "j\n",
      "rahul\n",
      "k\n",
      "simaran\n",
      "k\n",
      "raj\n",
      "k\n",
      "yahoo\n",
      "\n"
     ]
    }
   ],
   "source": [
    "while input() : \n",
    "    print(choice(names))"
   ]
  },
  {
   "cell_type": "code",
   "execution_count": 13,
   "metadata": {},
   "outputs": [
    {
     "name": "stdout",
     "output_type": "stream",
     "text": [
      "\n",
      "You have only 5\n",
      "\n",
      "Your Guess (1,50) : 25\n",
      "Hint: Be Big Think Big\n",
      "\n",
      "You have only 4\n",
      "\n",
      "Your Guess (1,50) : 37\n",
      "Hint: Be in Limits\n",
      "\n",
      "You have only 3\n",
      "\n",
      "Your Guess (1,50) : 31\n",
      "Hint: Be Big Think Big\n",
      "\n",
      "You have only 2\n",
      "\n",
      "Your Guess (1,50) : 34\n",
      "\n",
      "!!Waah!!!You have won the Game\n",
      "\n"
     ]
    }
   ],
   "source": [
    "# comguess\n",
    "from random import randint \n",
    "com_guess = randint(1,50)\n",
    "c = 1\n",
    "while c <= 5 : \n",
    "    print(f\"\\nYou have only {6-c}\\n\")\n",
    "    user_guess = int(input(\"Your Guess (1,50) : \"))\n",
    "    if user_guess > 50 or user_guess < 1 : \n",
    "        print(\"!!!Warning!!!!!Aaukat m input De 1 - 50 \")\n",
    "        continue \n",
    "    if user_guess == com_guess : \n",
    "        print(\"\\n!!Waah!!!You have won the Game\\n\")\n",
    "        break \n",
    "    elif user_guess < com_guess : \n",
    "        print(\"Hint: Be Big Think Big\")\n",
    "    else : \n",
    "        print(\"Hint: Be in Limits\")\n",
    "    c = c + 1\n",
    "else :\n",
    "    print(\"Computer Guess was : \",com_guess)\n",
    "    print(\"Hey you Listen !!! You Such A Looser\")"
   ]
  },
  {
   "cell_type": "code",
   "execution_count": 12,
   "metadata": {},
   "outputs": [
    {
     "data": {
      "text/plain": [
       "41"
      ]
     },
     "execution_count": 12,
     "metadata": {},
     "output_type": "execute_result"
    }
   ],
   "source": [
    "com_guess"
   ]
  },
  {
   "cell_type": "code",
   "execution_count": 15,
   "metadata": {},
   "outputs": [
    {
     "name": "stdout",
     "output_type": "stream",
     "text": [
      "guess something : ········\n",
      "\n",
      "You have only 5\n",
      "\n",
      "Your Guess (1,50) : 25\n",
      "Hint: Be in Limits\n",
      "\n",
      "You have only 4\n",
      "\n",
      "Your Guess (1,50) : 13\n",
      "Hint: Be in Limits\n",
      "\n",
      "You have only 3\n",
      "\n",
      "Your Guess (1,50) : 5\n",
      "Hint: Be in Limits\n",
      "\n",
      "You have only 2\n",
      "\n",
      "Your Guess (1,50) : 3\n",
      "Hint: Be in Limits\n",
      "\n",
      "You have only 1\n",
      "\n",
      "Your Guess (1,50) : 1\n",
      "\n",
      "!!Waah!!!You have won the Game\n",
      "\n"
     ]
    }
   ],
   "source": [
    "# comguess\n",
    "from random import randint\n",
    "from getpass import getpass\n",
    "com_guess = int(getpass(\"guess something : \"))\n",
    "c = 1\n",
    "while c <= 5 : \n",
    "    print(f\"\\nYou have only {6-c}\\n\")\n",
    "    user_guess = int(input(\"Your Guess (1,50) : \"))\n",
    "    if user_guess > 50 or user_guess < 1 : \n",
    "        print(\"!!!Warning!!!!!Aaukat m input De 1 - 50 \")\n",
    "        continue \n",
    "    if user_guess == com_guess : \n",
    "        print(\"\\n!!Waah!!!You have won the Game\\n\")\n",
    "        break \n",
    "    elif user_guess < com_guess : \n",
    "        print(\"Hint: Be Big Think Big\")\n",
    "    else : \n",
    "        print(\"Hint: Be in Limits\")\n",
    "    c = c + 1\n",
    "else :\n",
    "    print(\"Computer Guess was : \",com_guess)\n",
    "    print(\"Hey you Listen !!! You Such A Looser\")"
   ]
  },
  {
   "cell_type": "code",
   "execution_count": 16,
   "metadata": {},
   "outputs": [
    {
     "name": "stdout",
     "output_type": "stream",
     "text": [
      "1\n",
      "9\n",
      "125\n",
      "2401\n",
      "59049\n"
     ]
    }
   ],
   "source": [
    "c = 1\n",
    "while c <= 10 : \n",
    "    x = 1\n",
    "    while x < 5 : \n",
    "        print(c**x)\n",
    "        c += 2\n",
    "        x +=1 "
   ]
  },
  {
   "cell_type": "code",
   "execution_count": 18,
   "metadata": {},
   "outputs": [
    {
     "name": "stdout",
     "output_type": "stream",
     "text": [
      "hello worldhi world\n"
     ]
    }
   ],
   "source": [
    "print(\"hello world\",end='')\n",
    "print(\"hi world\")"
   ]
  },
  {
   "cell_type": "code",
   "execution_count": 19,
   "metadata": {},
   "outputs": [
    {
     "name": "stdout",
     "output_type": "stream",
     "text": [
      "\n",
      "I am in Row 1 \n",
      "for row 1 columns are : \t1, 2, 3, 4, 5, \n",
      "\n",
      "\n",
      "I am in Row 2 \n",
      "for row 2 columns are : \t1, 2, 3, 4, 5, \n",
      "\n",
      "\n",
      "I am in Row 3 \n",
      "for row 3 columns are : \t1, 2, 3, 4, 5, \n",
      "\n",
      "\n",
      "I am in Row 4 \n",
      "for row 4 columns are : \t1, 2, 3, 4, 5, \n",
      "\n",
      "\n",
      "I am in Row 5 \n",
      "for row 5 columns are : \t1, 2, 3, 4, 5, \n",
      "\n"
     ]
    }
   ],
   "source": [
    "row = 1\n",
    "while row <= 5 : \n",
    "    print(f\"\\nI am in Row {row} \")\n",
    "    print(f\"for row {row} columns are : \",end=\"\\t\")\n",
    "    col = 1\n",
    "    while col <= 5 : \n",
    "        print(col,end=\", \")\n",
    "        col += 1\n",
    "    print(\"\\n\")\n",
    "    row += 1"
   ]
  },
  {
   "cell_type": "markdown",
   "metadata": {},
   "source": [
    "#### meme of today\n",
    "##### Concerned Parent : if all of your friends jump from a bridge would you follow them ? \n",
    "##### Machine Learning Algo : yes"
   ]
  },
  {
   "cell_type": "code",
   "execution_count": 22,
   "metadata": {},
   "outputs": [
    {
     "name": "stdout",
     "output_type": "stream",
     "text": [
      "**********\n",
      "**********\n",
      "**********\n",
      "**********\n",
      "**********\n",
      "**********\n",
      "**********\n",
      "**********\n",
      "**********\n",
      "**********\n"
     ]
    }
   ],
   "source": [
    "row = 1\n",
    "while row <= 10 : \n",
    "    col = 1\n",
    "    while col <= 10 : \n",
    "        print(\"*\",end='')\n",
    "        col += 1 \n",
    "        \n",
    "    print()\n",
    "    row += 1"
   ]
  },
  {
   "cell_type": "code",
   "execution_count": 23,
   "metadata": {},
   "outputs": [
    {
     "name": "stdout",
     "output_type": "stream",
     "text": [
      "*\n",
      "**\n",
      "***\n",
      "****\n",
      "*****\n",
      "******\n",
      "*******\n",
      "********\n",
      "*********\n",
      "**********\n"
     ]
    }
   ],
   "source": [
    "row = 1\n",
    "while row <= 10 : \n",
    "    col = 1\n",
    "    while col <= 10 : \n",
    "        print(\"*\",end='')\n",
    "        col += 1\n",
    "        if col > row : \n",
    "            break\n",
    "        \n",
    "    print()\n",
    "    row += 1"
   ]
  },
  {
   "cell_type": "code",
   "execution_count": 25,
   "metadata": {},
   "outputs": [
    {
     "name": "stdout",
     "output_type": "stream",
     "text": [
      "         *\n",
      "        **\n",
      "       ***\n",
      "      ****\n",
      "     *****\n",
      "    ******\n",
      "   *******\n",
      "  ********\n",
      " *********\n",
      "**********\n"
     ]
    }
   ],
   "source": [
    "row = 1\n",
    "while row <= 10 : \n",
    "    col = 1\n",
    "    while col <= 10 :\n",
    "        if col <= 10 - row : \n",
    "            print(\" \",end='')\n",
    "        else : \n",
    "            print(\"*\",end='')\n",
    "        col += 1 \n",
    "        \n",
    "    print()\n",
    "    row += 1"
   ]
  },
  {
   "cell_type": "code",
   "execution_count": 26,
   "metadata": {},
   "outputs": [
    {
     "name": "stdout",
     "output_type": "stream",
     "text": [
      "*********\n",
      "********\n",
      "*******\n",
      "******\n",
      "*****\n",
      "****\n",
      "***\n",
      "**\n",
      "*\n",
      "\n"
     ]
    }
   ],
   "source": [
    "row = 1\n",
    "while row <= 10 : \n",
    "    col = 1\n",
    "    while col <= 10 :\n",
    "        if col <= 10 - row : \n",
    "            print(\"*\",end='')\n",
    "        else : \n",
    "            break\n",
    "        col += 1 \n",
    "        \n",
    "    print()\n",
    "    row += 1"
   ]
  },
  {
   "cell_type": "code",
   "execution_count": 27,
   "metadata": {},
   "outputs": [
    {
     "name": "stdout",
     "output_type": "stream",
     "text": [
      " * * * * * * * * * *\n",
      "  * * * * * * * * *\n",
      "   * * * * * * * *\n",
      "    * * * * * * *\n",
      "     * * * * * *\n",
      "      * * * * *\n",
      "       * * * *\n",
      "        * * *\n",
      "         * *\n",
      "          *\n"
     ]
    }
   ],
   "source": [
    "row = 1\n",
    "while row <= 10 : \n",
    "    col = 1\n",
    "    while col <= 10 : \n",
    "        print(\" \",end='')\n",
    "        col += 1\n",
    "        if col > row : \n",
    "            print(\"*\",end='')\n",
    "        \n",
    "    print()\n",
    "    row += 1"
   ]
  },
  {
   "cell_type": "code",
   "execution_count": 36,
   "metadata": {},
   "outputs": [
    {
     "name": "stdout",
     "output_type": "stream",
     "text": [
      "\t\t  * * * * * * * * * \n",
      "\t\t    * * * * * * * * \n",
      "\t\t      * * * * * * * \n",
      "\t\t        * * * * * * \n",
      "\t\t          * * * * * \n",
      "\t\t            * * * * \n",
      "\t\t              * * * \n",
      "\t\t                * * \n",
      "\t\t                  * \n",
      "\t\t                    \n"
     ]
    }
   ],
   "source": [
    "row = 1\n",
    "while row <= 10 : \n",
    "    col = 1\n",
    "    print(\"\\t\\t\",end='')\n",
    "    while col <= 10 : \n",
    "        if col > row : \n",
    "            print(\"* \",end='')\n",
    "        else : \n",
    "            print(\"  \",end='')\n",
    "        col += 1\n",
    "    print()\n",
    "    row += 1"
   ]
  },
  {
   "cell_type": "code",
   "execution_count": 42,
   "metadata": {},
   "outputs": [
    {
     "name": "stdout",
     "output_type": "stream",
     "text": [
      "         *\n",
      "        ***\n",
      "       *****\n",
      "      *******\n",
      "     *********\n",
      "    ***********\n",
      "   *************\n",
      "  ***************\n",
      " *****************\n",
      "*******************\n"
     ]
    }
   ],
   "source": [
    "row = 1\n",
    "while row <= 10 : \n",
    "    col = 1 \n",
    "    while col <= 20 : \n",
    "        if col <= (20 // 2)- row  : \n",
    "            print(\" \",end='')\n",
    "        col += 1\n",
    "    col = 1\n",
    "    while col <= (row * 2) - 1 : \n",
    "        print(\"*\",end='')\n",
    "        col += 1\n",
    "    print()\n",
    "    row += 1 "
   ]
  },
  {
   "cell_type": "code",
   "execution_count": 46,
   "metadata": {},
   "outputs": [
    {
     "name": "stdout",
     "output_type": "stream",
     "text": [
      "         *\n",
      "        ***\n",
      "       *****\n",
      "      *******\n",
      "     *********\n",
      "    ***********\n",
      "   *************\n",
      "  ***************\n",
      " *****************\n",
      "*******************\n"
     ]
    }
   ],
   "source": [
    "for var in range(1,11):\n",
    "    print(\" \"*(10-var),end='')\n",
    "    print(\"*\"*(var*2-1))"
   ]
  },
  {
   "cell_type": "code",
   "execution_count": null,
   "metadata": {},
   "outputs": [],
   "source": []
  }
 ],
 "metadata": {
  "kernelspec": {
   "display_name": "Python 3",
   "language": "python",
   "name": "python3"
  },
  "language_info": {
   "codemirror_mode": {
    "name": "ipython",
    "version": 3
   },
   "file_extension": ".py",
   "mimetype": "text/x-python",
   "name": "python",
   "nbconvert_exporter": "python",
   "pygments_lexer": "ipython3",
   "version": "3.7.1"
  }
 },
 "nbformat": 4,
 "nbformat_minor": 2
}

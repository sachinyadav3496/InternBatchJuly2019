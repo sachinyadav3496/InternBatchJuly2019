{
 "cells": [
  {
   "cell_type": "markdown",
   "metadata": {},
   "source": [
    "### Conditional or Decesion Statement s"
   ]
  },
  {
   "cell_type": "markdown",
   "metadata": {},
   "source": [
    "#### if - else are conditinal statemetns"
   ]
  },
  {
   "cell_type": "markdown",
   "metadata": {},
   "source": [
    "## Syntax \n",
    "\n",
    "    print(\"before if\")\n",
    "    if condition : \n",
    "        statement 1\n",
    "        statement 2\n",
    "        statement 3\n",
    "            ... \n",
    "        statement n\n",
    "    print(\"after if\")"
   ]
  },
  {
   "cell_type": "code",
   "execution_count": 2,
   "metadata": {},
   "outputs": [
    {
     "ename": "IndentationError",
     "evalue": "unexpected indent (<ipython-input-2-e56219962781>, line 2)",
     "output_type": "error",
     "traceback": [
      "\u001b[1;36m  File \u001b[1;32m\"<ipython-input-2-e56219962781>\"\u001b[1;36m, line \u001b[1;32m2\u001b[0m\n\u001b[1;33m    print(\"hi world\")\u001b[0m\n\u001b[1;37m    ^\u001b[0m\n\u001b[1;31mIndentationError\u001b[0m\u001b[1;31m:\u001b[0m unexpected indent\n"
     ]
    }
   ],
   "source": [
    "print(\"hello world\")\n",
    "    print(\"hi world\")\n",
    "print(\"bye world\")"
   ]
  },
  {
   "cell_type": "code",
   "execution_count": 3,
   "metadata": {},
   "outputs": [
    {
     "name": "stdout",
     "output_type": "stream",
     "text": [
      "5\n"
     ]
    }
   ],
   "source": [
    "x                =            5\n",
    "print(x)"
   ]
  },
  {
   "cell_type": "raw",
   "metadata": {},
   "source": [
    "#include<stdio.h>\n",
    "\n",
    "void main(){\n",
    "    int x=5;\n",
    "  if (x<5){ \n",
    "if (x>5) {printf(\"hello world\");}\n",
    "          }else {\n",
    "printf(\"bye world\");\n",
    "}\n",
    "}\n"
   ]
  },
  {
   "cell_type": "raw",
   "metadata": {},
   "source": [
    "#include<stdio.h>\n",
    "void main(){\n",
    "  int x=5;\n",
    "  if (x<5){ \n",
    "            if (x>5){\n",
    "                printf(\"hello world\");\n",
    "               }\n",
    "          }\n",
    "   else {\n",
    "            printf(\"bye world\");\n",
    "            }\n",
    "    }\n"
   ]
  },
  {
   "cell_type": "code",
   "execution_count": 5,
   "metadata": {},
   "outputs": [
    {
     "name": "stdout",
     "output_type": "stream",
     "text": [
      "\n",
      "''\n"
     ]
    }
   ],
   "source": [
    "x = input()\n",
    "print(repr(x))"
   ]
  },
  {
   "cell_type": "code",
   "execution_count": 6,
   "metadata": {},
   "outputs": [
    {
     "data": {
      "text/plain": [
       "False"
      ]
     },
     "execution_count": 6,
     "metadata": {},
     "output_type": "execute_result"
    }
   ],
   "source": [
    "bool(\"\")"
   ]
  },
  {
   "cell_type": "code",
   "execution_count": 10,
   "metadata": {},
   "outputs": [
    {
     "name": "stdout",
     "output_type": "stream",
     "text": [
      "Enter your name :           \n"
     ]
    }
   ],
   "source": [
    "name = input(\"Enter your name : \").strip()\n",
    "if name : \n",
    "    print(f\"Welcome user {name}\")"
   ]
  },
  {
   "cell_type": "code",
   "execution_count": 11,
   "metadata": {},
   "outputs": [
    {
     "name": "stdout",
     "output_type": "stream",
     "text": [
      "berfore if\n",
      "Inside If\n",
      "After if \n"
     ]
    }
   ],
   "source": [
    "print(\"berfore if\")\n",
    "if True : \n",
    "    print(\"Inside If\")\n",
    "print(\"After if \")"
   ]
  },
  {
   "cell_type": "code",
   "execution_count": 12,
   "metadata": {},
   "outputs": [
    {
     "name": "stdout",
     "output_type": "stream",
     "text": [
      "berfore if\n",
      "After if \n"
     ]
    }
   ],
   "source": [
    "print(\"berfore if\")\n",
    "if False : \n",
    "    print(\"Inside If\")\n",
    "print(\"After if \")"
   ]
  },
  {
   "cell_type": "code",
   "execution_count": 13,
   "metadata": {},
   "outputs": [],
   "source": [
    "# yes or y print welcoome \n",
    "# anything else print bg ja yha se"
   ]
  },
  {
   "cell_type": "code",
   "execution_count": 20,
   "metadata": {},
   "outputs": [
    {
     "name": "stdout",
     "output_type": "stream",
     "text": [
      "Enter your choice :               Y       e           S\n",
      "BHaag Ja Yha Se\n"
     ]
    }
   ],
   "source": [
    "ch = input(\"Enter your choice : \").strip().lower()\n",
    "\n",
    "if ch == 'yes' or ch == 'y' : \n",
    "    print(\"welcome\")\n",
    "else : \n",
    "    print(\"BHaag Ja Yha Se\")"
   ]
  },
  {
   "cell_type": "code",
   "execution_count": 22,
   "metadata": {},
   "outputs": [
    {
     "data": {
      "text/plain": [
       "['h', 'e', 'l', 'l', 'o']"
      ]
     },
     "execution_count": 22,
     "metadata": {},
     "output_type": "execute_result"
    }
   ],
   "source": [
    "\"h e l l o\".split()"
   ]
  },
  {
   "cell_type": "code",
   "execution_count": 23,
   "metadata": {},
   "outputs": [
    {
     "data": {
      "text/plain": [
       "'hello'"
      ]
     },
     "execution_count": 23,
     "metadata": {},
     "output_type": "execute_result"
    }
   ],
   "source": [
    " \"\".join(['h', 'e', 'l', 'l', 'o'])"
   ]
  },
  {
   "cell_type": "code",
   "execution_count": 29,
   "metadata": {},
   "outputs": [
    {
     "name": "stdout",
     "output_type": "stream",
     "text": [
      "Enter your name :           Y    e            S\n",
      "Hello\n"
     ]
    }
   ],
   "source": [
    "ch = \"\".join(input(\"Enter your name : \").split()).lower()\n",
    "if  ch == 'yes' or ch == 'y' : \n",
    "    print(\"Hello\")\n",
    "else : \n",
    "    print(\"Bhaag Ja Yha se\")"
   ]
  },
  {
   "cell_type": "code",
   "execution_count": 32,
   "metadata": {},
   "outputs": [
    {
     "name": "stdout",
     "output_type": "stream",
     "text": [
      "Enter a number : 10\n",
      "Even\n"
     ]
    }
   ],
   "source": [
    "num = int(input(\"Enter a number : \"))\n",
    "if num % 2 : \n",
    "    print(\"Odd\")\n",
    "else : \n",
    "    print(\"Even\")"
   ]
  },
  {
   "cell_type": "code",
   "execution_count": 34,
   "metadata": {},
   "outputs": [
    {
     "name": "stdout",
     "output_type": "stream",
     "text": [
      "Age : 21\n",
      "You can drink\n"
     ]
    }
   ],
   "source": [
    "if int(input(\"Age : \")) > 18 : \n",
    "    print(\"You can drink\")\n",
    "else : \n",
    "    print(\"You can not drink\")"
   ]
  },
  {
   "cell_type": "markdown",
   "metadata": {},
   "source": [
    "    find greatest among three numbers "
   ]
  },
  {
   "cell_type": "code",
   "execution_count": 35,
   "metadata": {},
   "outputs": [
    {
     "name": "stdout",
     "output_type": "stream",
     "text": [
      "Enter a : 4\n",
      "Enter b : 5\n",
      "Enter c : 6\n",
      "4 5 6\n"
     ]
    }
   ],
   "source": [
    "a = int(input(\"Enter a : \"))\n",
    "b = int(input(\"Enter b : \"))\n",
    "c = int(input(\"Enter c : \"))\n",
    "\n",
    "print(repr(a),repr(b),repr(c))"
   ]
  },
  {
   "cell_type": "code",
   "execution_count": 3,
   "metadata": {},
   "outputs": [
    {
     "name": "stdout",
     "output_type": "stream",
     "text": [
      "4 5 6\n",
      "'4' '5' '6'\n"
     ]
    }
   ],
   "source": [
    "# 4 5 6\n",
    "a,b,c = input().split() #  [ \"4\",\"5\",\"6\"]\n",
    "print(repr(a),repr(b),repr(c))"
   ]
  },
  {
   "cell_type": "code",
   "execution_count": 6,
   "metadata": {},
   "outputs": [
    {
     "data": {
      "text/plain": [
       "[4, 5, 6]"
      ]
     },
     "execution_count": 6,
     "metadata": {},
     "output_type": "execute_result"
    }
   ],
   "source": [
    "list(map(int,['4','5','6']))"
   ]
  },
  {
   "cell_type": "code",
   "execution_count": 7,
   "metadata": {},
   "outputs": [
    {
     "data": {
      "text/plain": [
       "['p', 'y', 't', 'h', 'o', 'n']"
      ]
     },
     "execution_count": 7,
     "metadata": {},
     "output_type": "execute_result"
    }
   ],
   "source": [
    "list('python')"
   ]
  },
  {
   "cell_type": "code",
   "execution_count": 19,
   "metadata": {},
   "outputs": [
    {
     "name": "stdout",
     "output_type": "stream",
     "text": [
      "a b c : 6 7 4\n",
      "B 7 is Greatest\n"
     ]
    }
   ],
   "source": [
    "a,b,c = map(int,input(\"a b c : \").split())\n",
    "\n",
    "if a >= b : \n",
    "    if a >= c : \n",
    "        print(f\"A {a} is Greatest\")\n",
    "elif b >= c : \n",
    "    print(f\"B {b} is Greatest\")\n",
    "else : \n",
    "    print(f\"C {c} is Greatest\")"
   ]
  },
  {
   "cell_type": "code",
   "execution_count": 16,
   "metadata": {},
   "outputs": [
    {
     "name": "stdout",
     "output_type": "stream",
     "text": [
      "1 2 3\n"
     ]
    }
   ],
   "source": [
    "print(x,y,z)"
   ]
  },
  {
   "cell_type": "code",
   "execution_count": 11,
   "metadata": {},
   "outputs": [
    {
     "data": {
      "text/plain": [
       "int"
      ]
     },
     "execution_count": 11,
     "metadata": {},
     "output_type": "execute_result"
    }
   ],
   "source": [
    "type(y)"
   ]
  },
  {
   "cell_type": "code",
   "execution_count": 21,
   "metadata": {},
   "outputs": [
    {
     "name": "stdout",
     "output_type": "stream",
     "text": [
      "a b c : 3 5 4\n",
      "5 is greatest\n"
     ]
    }
   ],
   "source": [
    "a,b,c = map(int, input(\"a b c : \").split())\n",
    "\n",
    "if a >= b and a >= c : \n",
    "    f = a\n",
    "elif b >= c : \n",
    "    f = b\n",
    "else : \n",
    "    f = c\n",
    "print(f\"{f} is greatest\")"
   ]
  },
  {
   "cell_type": "code",
   "execution_count": 23,
   "metadata": {},
   "outputs": [
    {
     "name": "stdout",
     "output_type": "stream",
     "text": [
      "Enter your job type (government,business,private) : government\n",
      "aaya bakra halal hone\n",
      "Enter your salary : 60000\n",
      "\n",
      "Submit your documents as soon as possible \n"
     ]
    }
   ],
   "source": [
    "## Bank loan approval \n",
    "job = input(\"Enter your job type (government,business,private) : \")\n",
    "if job == 'government' : \n",
    "    print(\"aaya bakra halal hone\")\n",
    "    sal = int(input(\"Enter your salary : \"))\n",
    "    if sal >= 50000 : \n",
    "        print(\"\\nSubmit your documents as soon as possible \")\n",
    "    else : \n",
    "        print(\"\\nWe can only provide you loan upto 2 Lakh.\")\n",
    "elif job == 'business' : \n",
    "    print(\"Kahi tu malya to nh hai \")\n",
    "    turn_over = int(input(\"Enter yearly trun over : \"))\n",
    "    if turn_over >= 200000 : \n",
    "        print(\"We will Think About it\")\n",
    "    else : \n",
    "        print(\"Dikh mtt jana dubara\")\n",
    "elif job == 'private' : \n",
    "    print(\"Sharam nh aati loan magne aaye ho\")\n",
    "else : \n",
    "    print(\"Bhai Chahte ky ho ap... nikalo yha se \")"
   ]
  },
  {
   "cell_type": "code",
   "execution_count": 26,
   "metadata": {},
   "outputs": [
    {
     "name": "stdout",
     "output_type": "stream",
     "text": [
      "Player1 Choice : ········\n",
      "Player2 Choice : ········\n",
      "\n",
      "\n",
      "\n",
      "..............Processing.............\n",
      "\n",
      "\n",
      "\n",
      "Player1's Choice :  rock\n",
      "Player2's Choice :  paper\n",
      "\n",
      "\n",
      "Player2 has Won the Game\n"
     ]
    }
   ],
   "source": [
    "# Rock, Paper, Scissor\n",
    "from random import randint\n",
    "from time import sleep\n",
    "from getpass import getpass\n",
    "ch1 = getpass(\"Player1 Choice : \")\n",
    "ch2 = getpass(\"Player2 Choice : \")\n",
    "print(\"\\n\\n\")\n",
    "print(\"..............Processing.............\")\n",
    "sleep(randint(1,4))\n",
    "print(\"\\n\\n\")\n",
    "print(\"Player1's Choice : \",ch1)\n",
    "print(\"Player2's Choice : \",ch2)\n",
    "print(\"\\n\")\n",
    "p1_win =((\"rock\",\"scissor\"),(\"paper\",\"rock\"),(\"scissor\",\"paper\"))\n",
    "if (ch1,ch2) in p1_win : \n",
    "    print(\"Player1 Has Won the Game\")\n",
    "elif ch1 == ch2 : \n",
    "    print(\"Match Tie\")\n",
    "else : \n",
    "    print(\"Player2 has Won the Game\")"
   ]
  },
  {
   "cell_type": "code",
   "execution_count": 27,
   "metadata": {},
   "outputs": [],
   "source": [
    "from random import choice "
   ]
  },
  {
   "cell_type": "code",
   "execution_count": 33,
   "metadata": {},
   "outputs": [
    {
     "data": {
      "text/plain": [
       "'paper'"
      ]
     },
     "execution_count": 33,
     "metadata": {},
     "output_type": "execute_result"
    }
   ],
   "source": [
    "choices = [ \"rock\",\"paper\",\"scissor\"]\n",
    "\n",
    "choice(choices)"
   ]
  },
  {
   "cell_type": "code",
   "execution_count": 34,
   "metadata": {},
   "outputs": [
    {
     "name": "stdout",
     "output_type": "stream",
     "text": [
      "Player's Choice : ········\n",
      "\n",
      "\n",
      "\n",
      "..............Processing.............\n",
      "\n",
      "\n",
      "\n",
      "Computer's Choice :  paper\n",
      "Player's Choice :  paper\n",
      "\n",
      "\n",
      "Match Tie\n"
     ]
    }
   ],
   "source": [
    "# Rock, Paper, Scissor\n",
    "from random import randint,choice\n",
    "from time import sleep\n",
    "from getpass import getpass\n",
    "ch1 = choice([\"rock\",\"paper\",\"scissor\"])\n",
    "ch2 = getpass(\"Player's Choice : \")\n",
    "print(\"\\n\\n\")\n",
    "print(\"..............Processing.............\")\n",
    "sleep(randint(1,4))\n",
    "print(\"\\n\\n\")\n",
    "print(\"Computer's Choice : \",ch1)\n",
    "print(\"Player's Choice : \",ch2)\n",
    "print(\"\\n\")\n",
    "p1_win =((\"rock\",\"scissor\"),(\"paper\",\"rock\"),(\"scissor\",\"paper\"))\n",
    "if (ch1,ch2) in p1_win : \n",
    "    print(\"Computer Has Won the Game\")\n",
    "elif ch1 == ch2 : \n",
    "    print(\"Match Tie\")\n",
    "else : \n",
    "    print(\"Player has Won the Game\")"
   ]
  },
  {
   "cell_type": "code",
   "execution_count": 35,
   "metadata": {},
   "outputs": [],
   "source": [
    "# Draw a Flow Diagram to print 1 - 10 numbers "
   ]
  },
  {
   "cell_type": "markdown",
   "metadata": {},
   "source": [
    "Syntx \n",
    "\n",
    "    counter = 1 # initlization\n",
    "    while counter <= 10  : \n",
    "        print(c)\n",
    "        c += 1 "
   ]
  },
  {
   "cell_type": "code",
   "execution_count": 36,
   "metadata": {},
   "outputs": [
    {
     "name": "stdout",
     "output_type": "stream",
     "text": [
      "Hello World Times 1.\n",
      "Hello World Times 2.\n",
      "Hello World Times 3.\n",
      "Hello World Times 4.\n",
      "Hello World Times 5.\n",
      "Hello World Times 6.\n",
      "Hello World Times 7.\n",
      "Hello World Times 8.\n",
      "Hello World Times 9.\n",
      "Hello World Times 10.\n"
     ]
    }
   ],
   "source": [
    "c = 1\n",
    "while c <= 10 : \n",
    "    print(f\"Hello World Times {c}.\")\n",
    "    c = c  + 1\n"
   ]
  },
  {
   "cell_type": "code",
   "execution_count": null,
   "metadata": {},
   "outputs": [],
   "source": []
  }
 ],
 "metadata": {
  "kernelspec": {
   "display_name": "Python 3",
   "language": "python",
   "name": "python3"
  },
  "language_info": {
   "codemirror_mode": {
    "name": "ipython",
    "version": 3
   },
   "file_extension": ".py",
   "mimetype": "text/x-python",
   "name": "python",
   "nbconvert_exporter": "python",
   "pygments_lexer": "ipython3",
   "version": "3.7.1"
  }
 },
 "nbformat": 4,
 "nbformat_minor": 2
}

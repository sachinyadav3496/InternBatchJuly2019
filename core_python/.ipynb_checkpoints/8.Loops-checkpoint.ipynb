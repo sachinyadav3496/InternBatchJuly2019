{
 "cells": [
  {
   "cell_type": "code",
   "execution_count": 1,
   "metadata": {},
   "outputs": [
    {
     "name": "stdout",
     "output_type": "stream",
     "text": [
      "Hello World Times 1\n",
      "Hello World Times 2\n",
      "Hello World Times 3\n",
      "Hello World Times 4\n",
      "Hello World Times 5\n"
     ]
    }
   ],
   "source": [
    "c = 1 \n",
    "while c <= 5 : \n",
    "    print(f\"Hello World Times {c}\")\n",
    "    c = c + 1"
   ]
  },
  {
   "cell_type": "code",
   "execution_count": 13,
   "metadata": {},
   "outputs": [
    {
     "name": "stdout",
     "output_type": "stream",
     "text": [
      "Enter a number : 5\n",
      "5     *     1 \t=     5 \n",
      "5     *     2 \t=    10 \n",
      "5     *     3 \t=    15 \n",
      "5     *     4 \t=    20 \n",
      "5     *     5 \t=    25 \n",
      "5     *     6 \t=    30 \n",
      "5     *     7 \t=    35 \n",
      "5     *     8 \t=    40 \n",
      "5     *     9 \t=    45 \n",
      "5     *    10 \t=    50 \n",
      "Loop Completed Sucessfully\n"
     ]
    }
   ],
   "source": [
    "num = int(input(\"Enter a number : \"))\n",
    "c  = 1\n",
    "while c <= 10 : \n",
    "    print(f\"{num:<5} * {c:>5} \\t= {num*c:>5} \")\n",
    "    c = c + 1\n",
    "else  : \n",
    "    print(\"Loop Completed Sucessfully\")"
   ]
  },
  {
   "cell_type": "code",
   "execution_count": 20,
   "metadata": {},
   "outputs": [
    {
     "name": "stdout",
     "output_type": "stream",
     "text": [
      "Enter a number : 5\n",
      "5     **     1 \t=\t 5     \n",
      "5     **     2 \t=\t 25    \n",
      "5     **     3 \t=\t 125   \n",
      "5     **     4 \t=\t 625   \n",
      "5     **     5 \t=\t 3125  \n",
      "5     **     6 \t=\t 15625 \n",
      "5     **     7 \t=\t 78125 \n",
      "5     **     8 \t=\t 390625 \n",
      "5     **     9 \t=\t 1953125 \n",
      "5     **    10 \t=\t 9765625 \n",
      "Loop Completed Sucessfully\n"
     ]
    }
   ],
   "source": [
    "num = int(input(\"Enter a number : \"))\n",
    "c  = 1\n",
    "while c <= 10 : \n",
    "    print(f\"{num:<5} ** {c:>5} \\t=\\t {num**c:<5} \")\n",
    "    c = c + 1\n",
    "else  : \n",
    "    print(\"Loop Completed Sucessfully\")"
   ]
  },
  {
   "cell_type": "code",
   "execution_count": 21,
   "metadata": {},
   "outputs": [
    {
     "name": "stdout",
     "output_type": "stream",
     "text": [
      "Hello World Times 1 \n",
      "Hello World Times 2 \n",
      "Hello World Times 4 \n",
      "Hello World Times 6 \n",
      "Hello World Times 8 \n",
      "Hello World Times 10 \n",
      "Counter is Done\n"
     ]
    }
   ],
   "source": [
    "c = 1\n",
    "while c <= 10 : \n",
    "    print(f\"Hello World Times {c} \")\n",
    "    if c % 2 : \n",
    "        c += 1\n",
    "    else : \n",
    "        c += 2 \n",
    "else :\n",
    "    print(\"Counter is Done\")"
   ]
  },
  {
   "cell_type": "code",
   "execution_count": 22,
   "metadata": {},
   "outputs": [],
   "source": [
    "# break \n",
    "c = 1 \n",
    "while c <= 10 : \n",
    "    break\n",
    "    print(\"hello world\")\n",
    "else : \n",
    "    print(\"hi world\")"
   ]
  },
  {
   "cell_type": "code",
   "execution_count": 1,
   "metadata": {},
   "outputs": [
    {
     "name": "stdout",
     "output_type": "stream",
     "text": [
      "2\n",
      "4\n"
     ]
    }
   ],
   "source": [
    "c = 0 \n",
    "while c <= 10 : \n",
    "    c += 2 \n",
    "    if c % 3 == 0 : \n",
    "        break\n",
    "    print(c)\n",
    "else :\n",
    "    print(\"Hi\")"
   ]
  },
  {
   "cell_type": "code",
   "execution_count": null,
   "metadata": {},
   "outputs": [],
   "source": [
    "c = 1\n",
    "while c <= 10 : \n",
    "    continue \n",
    "    print(\"hello world\")\n",
    "    c = c + 2\n",
    "else : \n",
    "    print(\"What the hack is continue ?\")"
   ]
  },
  {
   "cell_type": "code",
   "execution_count": 1,
   "metadata": {},
   "outputs": [
    {
     "name": "stdout",
     "output_type": "stream",
     "text": [
      "What the hack is continue ?\n"
     ]
    }
   ],
   "source": [
    "c = 1\n",
    "while c <= 10 :\n",
    "    c = c + 2\n",
    "    continue \n",
    "    print(\"hello world\")\n",
    "else : \n",
    "    print(\"What the hack is continue ?\")"
   ]
  },
  {
   "cell_type": "code",
   "execution_count": 2,
   "metadata": {},
   "outputs": [
    {
     "name": "stdout",
     "output_type": "stream",
     "text": [
      "hello world c\n"
     ]
    }
   ],
   "source": [
    "c = 1\n",
    "while c <= 10 :\n",
    "    c += 1\n",
    "    print(f\"hello world c\")\n",
    "    if c % 2 : \n",
    "        continue\n",
    "    else : \n",
    "        break \n",
    "    c += 1\n",
    "else : \n",
    "    print(\"hello world welcome to loops ?\")\n",
    "        "
   ]
  },
  {
   "cell_type": "code",
   "execution_count": 3,
   "metadata": {},
   "outputs": [
    {
     "name": "stdout",
     "output_type": "stream",
     "text": [
      "Hello world times 0\n",
      "hi world times 2\n",
      "Hello world times 4\n",
      "hi world times 6\n",
      "Hello world times 8\n",
      "hi world times 10\n",
      "apna time aayega ? \n"
     ]
    }
   ],
   "source": [
    "c = 0 \n",
    "while c <= 10 : \n",
    "    if c % 2 : \n",
    "        c += 1\n",
    "        continue\n",
    "    else : \n",
    "        print(f\"Hello world times {c}\")\n",
    "        c += 2\n",
    "    print(f\"hi world times {c}\")\n",
    "    c += 1\n",
    "else : \n",
    "    print(\"apna time aayega ? \")"
   ]
  },
  {
   "cell_type": "code",
   "execution_count": 4,
   "metadata": {},
   "outputs": [
    {
     "name": "stdout",
     "output_type": "stream",
     "text": [
      "Hello world times 0\n",
      "hi world times 2\n",
      "Hello world times 2\n",
      "hi world times 4\n",
      "Hello world times 4\n",
      "hi world times 6\n",
      "Hello world times 6\n",
      "hi world times 8\n",
      "Hello world times 8\n",
      "hi world times 10\n",
      "Hello world times 10\n",
      "hi world times 12\n",
      "apna time aayega ? \n"
     ]
    }
   ],
   "source": [
    "c = 0 \n",
    "while c <= 10 : \n",
    "    if c % 2 : \n",
    "        c += 1\n",
    "        continue\n",
    "    else : \n",
    "        print(f\"Hello world times {c}\")\n",
    "        c += 2\n",
    "    print(f\"hi world times {c}\")\n",
    "    c -= 1\n",
    "else : \n",
    "    print(\"apna time aayega ? \")"
   ]
  },
  {
   "cell_type": "code",
   "execution_count": 5,
   "metadata": {},
   "outputs": [
    {
     "name": "stdout",
     "output_type": "stream",
     "text": [
      "\n",
      "37\n",
      "\n",
      "4\n",
      "\n",
      "43\n",
      "\n",
      "88\n",
      "\n",
      "86\n",
      "\n",
      "6\n",
      "\n",
      "63\n",
      "\n",
      "51\n",
      "\n",
      "15\n",
      "\n",
      "19\n",
      "\n",
      "75\n",
      "\n",
      "25\n",
      "\n",
      "34\n",
      "\n",
      "20\n",
      "\n",
      "41\n",
      "\n",
      "76\n",
      "\n",
      "8\n",
      "\n",
      "48\n",
      "h\n",
      "Condition Condition karti rhati hai \n"
     ]
    }
   ],
   "source": [
    "from random import randint,choice \n",
    "\n",
    "while not input() : \n",
    "    print(randint(1,100))\n",
    "else :\n",
    "    print(\"Condition Condition karti rhati hai \")"
   ]
  },
  {
   "cell_type": "code",
   "execution_count": 1,
   "metadata": {},
   "outputs": [
    {
     "name": "stdout",
     "output_type": "stream",
     "text": [
      "\n",
      "Name[1] : rahul\n",
      "raj\n"
     ]
    }
   ],
   "source": [
    "from random import choice \n",
    "names = []\n",
    "c = 1\n",
    "while not input() : \n",
    "    names.append(input(f\"Name[{c}] : \"))\n",
    "    c = c + 1"
   ]
  },
  {
   "cell_type": "code",
   "execution_count": null,
   "metadata": {},
   "outputs": [],
   "source": []
  }
 ],
 "metadata": {
  "kernelspec": {
   "display_name": "Python 3",
   "language": "python",
   "name": "python3"
  },
  "language_info": {
   "codemirror_mode": {
    "name": "ipython",
    "version": 3
   },
   "file_extension": ".py",
   "mimetype": "text/x-python",
   "name": "python",
   "nbconvert_exporter": "python",
   "pygments_lexer": "ipython3",
   "version": "3.7.1"
  }
 },
 "nbformat": 4,
 "nbformat_minor": 2
}

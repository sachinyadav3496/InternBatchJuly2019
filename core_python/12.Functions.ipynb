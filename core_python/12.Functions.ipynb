{
 "cells": [
  {
   "cell_type": "markdown",
   "metadata": {},
   "source": [
    "<h1 style='color:#123456'> A Tale of Functions </h1>"
   ]
  },
  {
   "cell_type": "code",
   "execution_count": 1,
   "metadata": {},
   "outputs": [
    {
     "ename": "IndentationError",
     "evalue": "expected an indented block (<ipython-input-1-3dee3018d495>, line 2)",
     "output_type": "error",
     "traceback": [
      "\u001b[1;36m  File \u001b[1;32m\"<ipython-input-1-3dee3018d495>\"\u001b[1;36m, line \u001b[1;32m2\u001b[0m\n\u001b[1;33m    return \"hello world\"\u001b[0m\n\u001b[1;37m         ^\u001b[0m\n\u001b[1;31mIndentationError\u001b[0m\u001b[1;31m:\u001b[0m expected an indented block\n"
     ]
    }
   ],
   "source": [
    "def data(num): \n",
    "return \"hello world\"\n",
    "\n",
    "print(\"hi\")"
   ]
  },
  {
   "cell_type": "code",
   "execution_count": 2,
   "metadata": {},
   "outputs": [
    {
     "ename": "SyntaxError",
     "evalue": "invalid syntax (<ipython-input-2-82f054ea30df>, line 1)",
     "output_type": "error",
     "traceback": [
      "\u001b[1;36m  File \u001b[1;32m\"<ipython-input-2-82f054ea30df>\"\u001b[1;36m, line \u001b[1;32m1\u001b[0m\n\u001b[1;33m    def data(num)\u001b[0m\n\u001b[1;37m                  ^\u001b[0m\n\u001b[1;31mSyntaxError\u001b[0m\u001b[1;31m:\u001b[0m invalid syntax\n"
     ]
    }
   ],
   "source": [
    "def data(num) \n",
    "    return \"hello world\"\n",
    "\n",
    "print(\"hi\")"
   ]
  },
  {
   "cell_type": "code",
   "execution_count": 3,
   "metadata": {},
   "outputs": [
    {
     "ename": "IndentationError",
     "evalue": "unexpected indent (<ipython-input-3-85e92fcc06b1>, line 2)",
     "output_type": "error",
     "traceback": [
      "\u001b[1;36m  File \u001b[1;32m\"<ipython-input-3-85e92fcc06b1>\"\u001b[1;36m, line \u001b[1;32m2\u001b[0m\n\u001b[1;33m    print(\"hi world\")\u001b[0m\n\u001b[1;37m    ^\u001b[0m\n\u001b[1;31mIndentationError\u001b[0m\u001b[1;31m:\u001b[0m unexpected indent\n"
     ]
    }
   ],
   "source": [
    "print(\"hello world\")\n",
    " print(\"hi world\")\n",
    "print(\"bye\")"
   ]
  },
  {
   "cell_type": "code",
   "execution_count": 4,
   "metadata": {},
   "outputs": [],
   "source": [
    "def hello():\n",
    "    print(\"hello world\")\n"
   ]
  },
  {
   "cell_type": "code",
   "execution_count": 6,
   "metadata": {},
   "outputs": [],
   "source": [
    "def hello(num):\n",
    "    for var in num : \n",
    "        a = num.pop()\n",
    "        print(a**2+var**2)"
   ]
  },
  {
   "cell_type": "code",
   "execution_count": 7,
   "metadata": {},
   "outputs": [
    {
     "name": "stdout",
     "output_type": "stream",
     "text": [
      "26\n",
      "20\n",
      "18\n",
      "Before function \n",
      "Result =  None\n",
      "After function \n"
     ]
    }
   ],
   "source": [
    "x  = hello([1,2,3,4,5])\n",
    "print(\"Before function \")\n",
    "print(\"Result = \",x)\n",
    "print(\"After function \")"
   ]
  },
  {
   "cell_type": "code",
   "execution_count": 9,
   "metadata": {},
   "outputs": [
    {
     "name": "stdout",
     "output_type": "stream",
     "text": [
      "2\n",
      "13\n",
      "34\n",
      "Before function num :   [4, 5]\n",
      "Result =  34\n",
      "After function num :  [4, 5]\n"
     ]
    }
   ],
   "source": [
    "def hello(num):\n",
    "    for var in num : \n",
    "        a = num.pop(0)\n",
    "        print(a**2+var**2)\n",
    "    return a**2 + var**2 \n",
    "num = [1,2,3,4,5]\n",
    "x  = hello(num)\n",
    "print(\"Before function num :  \",num)\n",
    "print(\"Result = \",x)\n",
    "print(\"After function num : \",num)"
   ]
  },
  {
   "cell_type": "markdown",
   "metadata": {},
   "source": [
    "# Recursion "
   ]
  },
  {
   "cell_type": "markdown",
   "metadata": {},
   "source": [
    "#### what is recursion ? "
   ]
  },
  {
   "cell_type": "markdown",
   "metadata": {},
   "source": [
    "<h1 style='color:red'> Write output of following code ? </h1>"
   ]
  },
  {
   "cell_type": "code",
   "execution_count": 10,
   "metadata": {},
   "outputs": [],
   "source": [
    "def fact(num):\n",
    "    if num == 0 : \n",
    "        return 1\n",
    "    return num**2 + fact(num-1)"
   ]
  },
  {
   "cell_type": "code",
   "execution_count": 11,
   "metadata": {},
   "outputs": [
    {
     "name": "stdout",
     "output_type": "stream",
     "text": [
      "56\n"
     ]
    }
   ],
   "source": [
    "r = fact(5)\n",
    "print(r)"
   ]
  },
  {
   "cell_type": "code",
   "execution_count": 12,
   "metadata": {},
   "outputs": [
    {
     "ename": "RecursionError",
     "evalue": "maximum recursion depth exceeded",
     "output_type": "error",
     "traceback": [
      "\u001b[1;31m---------------------------------------------------------------------------\u001b[0m",
      "\u001b[1;31mRecursionError\u001b[0m                            Traceback (most recent call last)",
      "\u001b[1;32m<ipython-input-12-977a9505a6b1>\u001b[0m in \u001b[0;36m<module>\u001b[1;34m\u001b[0m\n\u001b[0;32m      1\u001b[0m \u001b[1;32mdef\u001b[0m \u001b[0mhello\u001b[0m\u001b[1;33m(\u001b[0m\u001b[1;33m)\u001b[0m\u001b[1;33m:\u001b[0m\u001b[1;33m\u001b[0m\u001b[1;33m\u001b[0m\u001b[0m\n\u001b[0;32m      2\u001b[0m     \u001b[0mhello\u001b[0m\u001b[1;33m(\u001b[0m\u001b[1;33m)\u001b[0m\u001b[1;33m\u001b[0m\u001b[1;33m\u001b[0m\u001b[0m\n\u001b[1;32m----> 3\u001b[1;33m \u001b[0mhello\u001b[0m\u001b[1;33m(\u001b[0m\u001b[1;33m)\u001b[0m\u001b[1;33m\u001b[0m\u001b[1;33m\u001b[0m\u001b[0m\n\u001b[0m",
      "\u001b[1;32m<ipython-input-12-977a9505a6b1>\u001b[0m in \u001b[0;36mhello\u001b[1;34m()\u001b[0m\n\u001b[0;32m      1\u001b[0m \u001b[1;32mdef\u001b[0m \u001b[0mhello\u001b[0m\u001b[1;33m(\u001b[0m\u001b[1;33m)\u001b[0m\u001b[1;33m:\u001b[0m\u001b[1;33m\u001b[0m\u001b[1;33m\u001b[0m\u001b[0m\n\u001b[1;32m----> 2\u001b[1;33m     \u001b[0mhello\u001b[0m\u001b[1;33m(\u001b[0m\u001b[1;33m)\u001b[0m\u001b[1;33m\u001b[0m\u001b[1;33m\u001b[0m\u001b[0m\n\u001b[0m\u001b[0;32m      3\u001b[0m \u001b[0mhello\u001b[0m\u001b[1;33m(\u001b[0m\u001b[1;33m)\u001b[0m\u001b[1;33m\u001b[0m\u001b[1;33m\u001b[0m\u001b[0m\n",
      "... last 1 frames repeated, from the frame below ...\n",
      "\u001b[1;32m<ipython-input-12-977a9505a6b1>\u001b[0m in \u001b[0;36mhello\u001b[1;34m()\u001b[0m\n\u001b[0;32m      1\u001b[0m \u001b[1;32mdef\u001b[0m \u001b[0mhello\u001b[0m\u001b[1;33m(\u001b[0m\u001b[1;33m)\u001b[0m\u001b[1;33m:\u001b[0m\u001b[1;33m\u001b[0m\u001b[1;33m\u001b[0m\u001b[0m\n\u001b[1;32m----> 2\u001b[1;33m     \u001b[0mhello\u001b[0m\u001b[1;33m(\u001b[0m\u001b[1;33m)\u001b[0m\u001b[1;33m\u001b[0m\u001b[1;33m\u001b[0m\u001b[0m\n\u001b[0m\u001b[0;32m      3\u001b[0m \u001b[0mhello\u001b[0m\u001b[1;33m(\u001b[0m\u001b[1;33m)\u001b[0m\u001b[1;33m\u001b[0m\u001b[1;33m\u001b[0m\u001b[0m\n",
      "\u001b[1;31mRecursionError\u001b[0m: maximum recursion depth exceeded"
     ]
    }
   ],
   "source": [
    "def hello():\n",
    "    hello()\n",
    "hello()"
   ]
  },
  {
   "cell_type": "code",
   "execution_count": null,
   "metadata": {},
   "outputs": [],
   "source": [
    "while True : \n",
    "    pass"
   ]
  },
  {
   "cell_type": "code",
   "execution_count": 13,
   "metadata": {},
   "outputs": [],
   "source": [
    "import sys"
   ]
  },
  {
   "cell_type": "code",
   "execution_count": 14,
   "metadata": {},
   "outputs": [
    {
     "data": {
      "text/plain": [
       "3000"
      ]
     },
     "execution_count": 14,
     "metadata": {},
     "output_type": "execute_result"
    }
   ],
   "source": [
    "sys.getrecursionlimit()"
   ]
  },
  {
   "cell_type": "code",
   "execution_count": 15,
   "metadata": {},
   "outputs": [],
   "source": [
    "sys.setrecursionlimit(6000)"
   ]
  },
  {
   "cell_type": "markdown",
   "metadata": {},
   "source": [
    "#### write a program to calculat prime\n",
    "##### Write a function prime(num) --> True if num prime else False\n",
    "1. Using For Loop\n",
    "2. Using While Loop\n",
    "3. Using Recursion"
   ]
  },
  {
   "cell_type": "code",
   "execution_count": 30,
   "metadata": {},
   "outputs": [],
   "source": [
    "# prime --> khud se or 1 se divide hota\n",
    "from math import sqrt,ceil"
   ]
  },
  {
   "cell_type": "code",
   "execution_count": 29,
   "metadata": {},
   "outputs": [
    {
     "name": "stdout",
     "output_type": "stream",
     "text": [
      "Enter number : 12\n",
      "   12 / 2     -->\t Quiotent,Remainder     6      0\n",
      "   12 / 3     -->\t Quiotent,Remainder     4      0\n",
      "   12 / 4     -->\t Quiotent,Remainder     3      0\n",
      "   12 / 5     -->\t Quiotent,Remainder     2      2\n",
      "   12 / 6     -->\t Quiotent,Remainder     2      0\n",
      "   12 / 7     -->\t Quiotent,Remainder     1      5\n",
      "   12 / 8     -->\t Quiotent,Remainder     1      4\n",
      "   12 / 9     -->\t Quiotent,Remainder     1      3\n",
      "   12 / 10    -->\t Quiotent,Remainder     1      2\n",
      "   12 / 11    -->\t Quiotent,Remainder     1      1\n"
     ]
    }
   ],
   "source": [
    "num = int(input(\"Enter number : \"))\n",
    "c = 2 \n",
    "while c <= num-1 : \n",
    "    print(f\"{num:>5} / {c:<5} -->\\t Quiotent,Remainder {num//c:>5} {num%c:>6}\")\n",
    "    c += 1"
   ]
  },
  {
   "cell_type": "code",
   "execution_count": 31,
   "metadata": {},
   "outputs": [
    {
     "name": "stdout",
     "output_type": "stream",
     "text": [
      "Enter a number : 127\n",
      "Number 127  is Prime\n"
     ]
    }
   ],
   "source": [
    "c = 2 \n",
    "num = int(input(\"Enter a number : \"))\n",
    "while c <= ceil(sqrt(num)) : \n",
    "    if num % c == 0 : \n",
    "        print(f\" Number {num} is Not Prime \")\n",
    "        break \n",
    "    c = c + 1\n",
    "else : \n",
    "    print(f\"Number {num}  is Prime\")\n",
    "    "
   ]
  },
  {
   "cell_type": "code",
   "execution_count": 32,
   "metadata": {},
   "outputs": [
    {
     "name": "stdout",
     "output_type": "stream",
     "text": [
      "Enter a number : 127\n",
      "Number 127  is Prime\n"
     ]
    }
   ],
   "source": [
    "num = int(input(\"Enter a number : \"))\n",
    "for c in range(2,ceil(sqrt(num))+1) : \n",
    "    if num % c == 0 : \n",
    "        print(f\" Number {num} is Not Prime \")\n",
    "        break \n",
    "else : \n",
    "    print(f\"Number {num}  is Prime\")\n",
    "    "
   ]
  },
  {
   "cell_type": "code",
   "execution_count": 18,
   "metadata": {},
   "outputs": [
    {
     "name": "stdout",
     "output_type": "stream",
     "text": [
      "hello world\n",
      "35\n"
     ]
    }
   ],
   "source": [
    "def hello():\n",
    "    print(\"hello world\")\n",
    "    return 35\n",
    "    print(\"hi world\")\n",
    "x  = hello()\n",
    "print(x)"
   ]
  },
  {
   "cell_type": "code",
   "execution_count": 38,
   "metadata": {},
   "outputs": [
    {
     "name": "stdout",
     "output_type": "stream",
     "text": [
      "Enter a number : 4\n",
      "False\n"
     ]
    }
   ],
   "source": [
    "def prime(num):\n",
    "    for check in range(2,ceil(sqrt(num))+1) : \n",
    "        if num % check == 0 : \n",
    "            return False\n",
    "    return True\n",
    "print(hello(int(input(\"Enter a number : \"))))"
   ]
  },
  {
   "cell_type": "code",
   "execution_count": 41,
   "metadata": {},
   "outputs": [
    {
     "name": "stdout",
     "output_type": "stream",
     "text": [
      "you can drink\n"
     ]
    }
   ],
   "source": [
    "def drink(name,age): # positional arguments (compulsory)\n",
    "    if age > 18 : \n",
    "        print(\"you can drink\")\n",
    "    else : \n",
    "        print(\"you can not drink\")\n",
    "drink(age=23,name='sachin') # key-word arguments"
   ]
  },
  {
   "cell_type": "code",
   "execution_count": 42,
   "metadata": {},
   "outputs": [
    {
     "name": "stdout",
     "output_type": "stream",
     "text": [
      "you can not drink\n"
     ]
    }
   ],
   "source": [
    "def drink(name,age=16): # 1 positional arguments, 1 Default \n",
    "    if age > 18 : \n",
    "        print(\"you can drink\")\n",
    "    else : \n",
    "        print(\"you can not drink\")\n",
    "drink('sachin')"
   ]
  },
  {
   "cell_type": "markdown",
   "metadata": {},
   "source": [
    "# using Recursion"
   ]
  },
  {
   "cell_type": "code",
   "execution_count": 45,
   "metadata": {},
   "outputs": [
    {
     "name": "stdout",
     "output_type": "stream",
     "text": [
      "Enter number :127\n"
     ]
    },
    {
     "data": {
      "text/plain": [
       "True"
      ]
     },
     "execution_count": 45,
     "metadata": {},
     "output_type": "execute_result"
    }
   ],
   "source": [
    "def prime(num,check=2):\n",
    "    if num % check == 0 : \n",
    "        return False\n",
    "    elif check == ceil(sqrt(num)) : \n",
    "        return True \n",
    "    return prime(num,check+1)\n",
    "prime(int(input(\"Enter number :\")))"
   ]
  },
  {
   "cell_type": "code",
   "execution_count": 6,
   "metadata": {},
   "outputs": [
    {
     "name": "stdout",
     "output_type": "stream",
     "text": [
      "Start : 1\n",
      "End : 100\n",
      "1, 2, 3, 5, 7, 11, 13, 17, 19, 23, 29, 31, 37, 41, 43, 47, 53, 59, 61, 67, 71, 73, 79, 83, 89, 97, \n",
      "Total Count :  26\n"
     ]
    }
   ],
   "source": [
    "from math import ceil,sqrt\n",
    "def prime(num):\n",
    "    for check in range(2,ceil(sqrt(num))+1) :\n",
    "        if num == 2 : \n",
    "            return True\n",
    "        if num % check == 0 : \n",
    "            return False\n",
    "    return True\n",
    "count = 0 \n",
    "for num in range(int(input(\"Start : \")),int(input(\"End : \"))+1) : \n",
    "    if prime(num): \n",
    "        count += 1\n",
    "        print(num,end=\", \")\n",
    "else : \n",
    "    print(\"\\nTotal Count : \",count)"
   ]
  },
  {
   "cell_type": "code",
   "execution_count": 9,
   "metadata": {},
   "outputs": [],
   "source": [
    "rom math import ceil,sqrt\n",
    "def prime(num):\n",
    "    for check in range(2,ceil(sqrt(num))+1) :\n",
    "        if num == 2 : \n",
    "            return True\n",
    "        if num % check == 0 : \n",
    "            return False\n",
    "    return True\n",
    "\n",
    "def count_prime(s,e):\n",
    "    count = 0\n",
    "    for num in range(s,e) : \n",
    "        if prime(num): \n",
    "            count += 1\n",
    "            print(num,end=\", \")\n",
    "    else : \n",
    "        print(\"\\nTotal Count : \",count)\n",
    "    \n",
    "        "
   ]
  },
  {
   "cell_type": "code",
   "execution_count": 10,
   "metadata": {},
   "outputs": [
    {
     "name": "stdout",
     "output_type": "stream",
     "text": [
      "1, 2, 3, 5, 7, 11, 13, 17, 19, 23, 29, 31, 37, 41, 43, 47, 53, 59, 61, 67, 71, 73, 79, 83, 89, 97, \n",
      "Total Count :  26\n"
     ]
    }
   ],
   "source": [
    "count_prime(1,100)"
   ]
  },
  {
   "cell_type": "markdown",
   "metadata": {},
   "source": [
    "#### positional arguments ( compulsory arguments)"
   ]
  },
  {
   "cell_type": "code",
   "execution_count": 14,
   "metadata": {},
   "outputs": [
    {
     "name": "stdout",
     "output_type": "stream",
     "text": [
      "x =  5\n",
      "y =  6\n",
      "x + y =  11\n"
     ]
    }
   ],
   "source": [
    "def add(x,y): # x --> 0, y --> 1 \n",
    "    print(\"x = \",x)\n",
    "    print(\"y = \",y)\n",
    "    print(\"x + y = \",x+y)\n",
    "\n",
    "add(5,6)# 5 --> 0, 6---> 1"
   ]
  },
  {
   "cell_type": "markdown",
   "metadata": {},
   "source": [
    "#### key-word arguments ( at function calling )"
   ]
  },
  {
   "cell_type": "code",
   "execution_count": 16,
   "metadata": {},
   "outputs": [
    {
     "name": "stdout",
     "output_type": "stream",
     "text": [
      "Welcome Child yahoo\n"
     ]
    }
   ],
   "source": [
    "def hello(name,age): # name, age are keys for hello function\n",
    "    if age > 18 : \n",
    "        print(f\"{name} is an adult\")\n",
    "    else : \n",
    "        print(f\"Welcome Child {name}\")\n",
    "hello(age=18,name='yahoo')"
   ]
  },
  {
   "cell_type": "code",
   "execution_count": 18,
   "metadata": {},
   "outputs": [
    {
     "name": "stdout",
     "output_type": "stream",
     "text": [
      "sachin is an adult\n"
     ]
    }
   ],
   "source": [
    "#hello(age=23,'sachin')\n",
    "hello('sachin',age=23)"
   ]
  },
  {
   "cell_type": "code",
   "execution_count": 20,
   "metadata": {},
   "outputs": [],
   "source": [
    "#hello('sachin',name='yahoo')\n"
   ]
  },
  {
   "cell_type": "markdown",
   "metadata": {},
   "source": [
    "## Default Arguments"
   ]
  },
  {
   "cell_type": "code",
   "execution_count": 21,
   "metadata": {},
   "outputs": [],
   "source": [
    "## function Overloading"
   ]
  },
  {
   "cell_type": "code",
   "execution_count": 22,
   "metadata": {},
   "outputs": [],
   "source": [
    "def add(x,y):\n",
    "    return x**2 + y**2\n",
    "\n",
    "def add(x,y,z):\n",
    "    return x**2+y+z"
   ]
  },
  {
   "cell_type": "code",
   "execution_count": 24,
   "metadata": {},
   "outputs": [
    {
     "name": "stdout",
     "output_type": "stream",
     "text": [
      "6\n"
     ]
    }
   ],
   "source": [
    "\n",
    "#r1 = add(4,5)\n",
    "r2 = add(1,2,3)\n",
    "#print(r1)\n",
    "print(r2)"
   ]
  },
  {
   "cell_type": "code",
   "execution_count": 25,
   "metadata": {},
   "outputs": [],
   "source": [
    "def add(x,y,z=None):\n",
    "    if z : \n",
    "        return x**2+y+z\n",
    "    return x**2 + y **2 "
   ]
  },
  {
   "cell_type": "code",
   "execution_count": 26,
   "metadata": {},
   "outputs": [
    {
     "data": {
      "text/plain": [
       "5"
      ]
     },
     "execution_count": 26,
     "metadata": {},
     "output_type": "execute_result"
    }
   ],
   "source": [
    "add(1,2)"
   ]
  },
  {
   "cell_type": "code",
   "execution_count": 27,
   "metadata": {},
   "outputs": [
    {
     "data": {
      "text/plain": [
       "6"
      ]
     },
     "execution_count": 27,
     "metadata": {},
     "output_type": "execute_result"
    }
   ],
   "source": [
    "add(1,2,3)"
   ]
  },
  {
   "cell_type": "code",
   "execution_count": 33,
   "metadata": {},
   "outputs": [],
   "source": [
    "def add(x,y=[]):\n",
    "    y.append(x*2)\n",
    "    return y "
   ]
  },
  {
   "cell_type": "code",
   "execution_count": 34,
   "metadata": {},
   "outputs": [
    {
     "name": "stdout",
     "output_type": "stream",
     "text": [
      "[10]\n",
      "x =  [1, 2, 3, 8]\n",
      "y =  [10, 'sachinsachin']\n",
      "z =  ['hi', 'hello', 16]\n",
      "p =  [10, 'sachinsachin']\n"
     ]
    }
   ],
   "source": [
    "x = add(4,[1,2,3])\n",
    "y = add(5)\n",
    "print(y)\n",
    "z = add(8,['hi','hello'])\n",
    "p = add('sachin')\n",
    "print(\"x = \",x) # [ 1,2,3,8]\n",
    "print(\"y = \",y) # [ 10 ]\n",
    "print(\"z = \",z) # [ 'hi','hello',16]\n",
    "print(\"p = \",p) # [ 'sachinsachin' ]"
   ]
  },
  {
   "cell_type": "code",
   "execution_count": 35,
   "metadata": {},
   "outputs": [],
   "source": [
    "# var length arguments \n",
    "\n",
    "def func(*arg):\n",
    "    (type(arg))\n",
    "    print(arg)"
   ]
  },
  {
   "cell_type": "code",
   "execution_count": 36,
   "metadata": {},
   "outputs": [
    {
     "name": "stdout",
     "output_type": "stream",
     "text": [
      "<class 'tuple'>\n",
      "()\n"
     ]
    }
   ],
   "source": [
    "func()"
   ]
  },
  {
   "cell_type": "code",
   "execution_count": 37,
   "metadata": {},
   "outputs": [
    {
     "name": "stdout",
     "output_type": "stream",
     "text": [
      "<class 'tuple'>\n",
      "(1, 2, 3)\n"
     ]
    }
   ],
   "source": [
    "func(1,2,3)"
   ]
  },
  {
   "cell_type": "code",
   "execution_count": 38,
   "metadata": {},
   "outputs": [
    {
     "name": "stdout",
     "output_type": "stream",
     "text": [
      "<class 'tuple'>\n",
      "(1, 2, 3, 4, 5, 6, 7, 7, 8, 4, 4, 4)\n"
     ]
    }
   ],
   "source": [
    "func(1,2,3,4,5,6,7,7,8,4,4,4,)"
   ]
  },
  {
   "cell_type": "code",
   "execution_count": 41,
   "metadata": {},
   "outputs": [],
   "source": [
    "def prior(pos,default=1,*multiple):\n",
    "    print(\"pos \",pos)\n",
    "    print(\"default \",default)\n",
    "    print(\"multiple \",multiple)"
   ]
  },
  {
   "cell_type": "code",
   "execution_count": 45,
   "metadata": {},
   "outputs": [
    {
     "name": "stdout",
     "output_type": "stream",
     "text": [
      "pos  1\n",
      "default  2\n",
      "multiple  ('hi', [1, 2, 3], {'oe': 'ee'})\n"
     ]
    }
   ],
   "source": [
    "prior(1,2,'hi',[1,2,3],{'oe':'ee'})"
   ]
  },
  {
   "cell_type": "code",
   "execution_count": 46,
   "metadata": {},
   "outputs": [
    {
     "ename": "TypeError",
     "evalue": "prior() got an unexpected keyword argument 'name'",
     "output_type": "error",
     "traceback": [
      "\u001b[1;31m---------------------------------------------------------------------------\u001b[0m",
      "\u001b[1;31mTypeError\u001b[0m                                 Traceback (most recent call last)",
      "\u001b[1;32m<ipython-input-46-2fd8347ad721>\u001b[0m in \u001b[0;36m<module>\u001b[1;34m\u001b[0m\n\u001b[1;32m----> 1\u001b[1;33m \u001b[0mprior\u001b[0m\u001b[1;33m(\u001b[0m\u001b[1;36m10\u001b[0m\u001b[1;33m,\u001b[0m\u001b[0mname\u001b[0m\u001b[1;33m=\u001b[0m\u001b[1;34m'sachin'\u001b[0m\u001b[1;33m)\u001b[0m\u001b[1;33m\u001b[0m\u001b[1;33m\u001b[0m\u001b[0m\n\u001b[0m",
      "\u001b[1;31mTypeError\u001b[0m: prior() got an unexpected keyword argument 'name'"
     ]
    }
   ],
   "source": [
    "prior(10,name='sachin')"
   ]
  },
  {
   "cell_type": "code",
   "execution_count": 47,
   "metadata": {},
   "outputs": [],
   "source": [
    "def func(**kwargs):\n",
    "    print(type(kwargs))\n",
    "    print(kwargs)"
   ]
  },
  {
   "cell_type": "code",
   "execution_count": 48,
   "metadata": {},
   "outputs": [
    {
     "name": "stdout",
     "output_type": "stream",
     "text": [
      "<class 'dict'>\n",
      "{}\n"
     ]
    }
   ],
   "source": [
    "func()"
   ]
  },
  {
   "cell_type": "code",
   "execution_count": 50,
   "metadata": {},
   "outputs": [
    {
     "name": "stdout",
     "output_type": "stream",
     "text": [
      "<class 'dict'>\n",
      "{'x': 1, 'y': 2}\n"
     ]
    }
   ],
   "source": [
    "func(x =1,y=2)"
   ]
  },
  {
   "cell_type": "code",
   "execution_count": 51,
   "metadata": {},
   "outputs": [],
   "source": [
    "def mk_dict(**d):\n",
    "    return d"
   ]
  },
  {
   "cell_type": "code",
   "execution_count": 52,
   "metadata": {},
   "outputs": [
    {
     "data": {
      "text/plain": [
       "{'name': 'sachin', 'data': [1, 233, 323, 13, 35]}"
      ]
     },
     "execution_count": 52,
     "metadata": {},
     "output_type": "execute_result"
    }
   ],
   "source": [
    "mk_dict(name='sachin',data=[1,233,323,13,35])"
   ]
  },
  {
   "cell_type": "code",
   "execution_count": 53,
   "metadata": {},
   "outputs": [],
   "source": [
    "def prior(pos,default=1,*multiple,**kwargs):\n",
    "    print(\"pos \",pos)\n",
    "    print(\"default \",default)\n",
    "    print(\"multiple \",multiple)\n",
    "    print(\"kwargs \",kwargs)"
   ]
  },
  {
   "cell_type": "code",
   "execution_count": 54,
   "metadata": {},
   "outputs": [
    {
     "name": "stdout",
     "output_type": "stream",
     "text": [
      "pos  1\n",
      "default  2\n",
      "multiple  (3, 4, 5, 3, 4, 3, 3, 54, 63, 43)\n",
      "kwargs  {'name': 'python', 'author': 'guido'}\n"
     ]
    }
   ],
   "source": [
    "prior(1,2,3,4,5,3,4,3,3,54,63,43,name='python',author='guido')"
   ]
  },
  {
   "cell_type": "code",
   "execution_count": 55,
   "metadata": {},
   "outputs": [],
   "source": [
    "even = lambda num : True if num % 2 == 0 else False"
   ]
  },
  {
   "cell_type": "code",
   "execution_count": 56,
   "metadata": {},
   "outputs": [
    {
     "data": {
      "text/plain": [
       "True"
      ]
     },
     "execution_count": 56,
     "metadata": {},
     "output_type": "execute_result"
    }
   ],
   "source": [
    "even(12)"
   ]
  },
  {
   "cell_type": "code",
   "execution_count": 57,
   "metadata": {},
   "outputs": [
    {
     "data": {
      "text/plain": [
       "False"
      ]
     },
     "execution_count": 57,
     "metadata": {},
     "output_type": "execute_result"
    }
   ],
   "source": [
    "even(11)"
   ]
  },
  {
   "cell_type": "code",
   "execution_count": null,
   "metadata": {},
   "outputs": [],
   "source": []
  }
 ],
 "metadata": {
  "kernelspec": {
   "display_name": "Python 3",
   "language": "python",
   "name": "python3"
  },
  "language_info": {
   "codemirror_mode": {
    "name": "ipython",
    "version": 3
   },
   "file_extension": ".py",
   "mimetype": "text/x-python",
   "name": "python",
   "nbconvert_exporter": "python",
   "pygments_lexer": "ipython3",
   "version": "3.7.1"
  }
 },
 "nbformat": 4,
 "nbformat_minor": 2
}

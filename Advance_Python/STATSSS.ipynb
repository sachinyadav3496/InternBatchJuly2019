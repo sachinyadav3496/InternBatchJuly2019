{
 "cells": [
  {
   "cell_type": "code",
   "execution_count": 1,
   "metadata": {},
   "outputs": [],
   "source": [
    "# import all library needed\n",
    "import numpy as np \n",
    "import pandas as pd\n",
    "import matplotlib.pyplot as plt\n",
    "import seaborn as sns\n",
    "%matplotlib inline"
   ]
  },
  {
   "cell_type": "code",
   "execution_count": 103,
   "metadata": {},
   "outputs": [],
   "source": [
    "# Variations "
   ]
  },
  {
   "cell_type": "code",
   "execution_count": 134,
   "metadata": {},
   "outputs": [],
   "source": [
    "a = np.random.randint(30,50,50)\n",
    "#a = np.random.randint(30,50,10)"
   ]
  },
  {
   "cell_type": "code",
   "execution_count": 135,
   "metadata": {},
   "outputs": [
    {
     "data": {
      "text/plain": [
       "array([31, 43, 35, 48, 42, 34, 39, 44, 41, 30, 34, 43, 43, 48, 36, 48, 46,\n",
       "       43, 45, 33, 44, 39, 48, 46, 35, 31, 48, 43, 45, 46, 37, 30, 32, 49,\n",
       "       41, 46, 43, 35, 46, 32, 47, 32, 39, 41, 47, 44, 45, 31, 36, 34])"
      ]
     },
     "execution_count": 135,
     "metadata": {},
     "output_type": "execute_result"
    }
   ],
   "source": [
    "a"
   ]
  },
  {
   "cell_type": "code",
   "execution_count": 136,
   "metadata": {},
   "outputs": [
    {
     "data": {
      "text/plain": [
       "array([119, 108, 114, 101, 118, 100, 105, 100, 112, 104])"
      ]
     },
     "execution_count": 136,
     "metadata": {},
     "output_type": "execute_result"
    }
   ],
   "source": [
    "b = np.random.randint(100,120,10)\n",
    "b"
   ]
  },
  {
   "cell_type": "code",
   "execution_count": 137,
   "metadata": {},
   "outputs": [
    {
     "data": {
      "text/plain": [
       "array([31, 43, 35, 48, 42, 34, 39, 44, 41, 30, 34, 43, 43, 48, 36, 48, 46,\n",
       "       43, 45, 33, 44, 39, 48, 46, 35, 31, 48, 43, 45, 46, 37, 30, 32, 49,\n",
       "       41, 46, 43, 35, 46, 32, 47, 32, 39, 41, 47, 44, 45, 31, 36, 34])"
      ]
     },
     "execution_count": 137,
     "metadata": {},
     "output_type": "execute_result"
    }
   ],
   "source": [
    "a"
   ]
  },
  {
   "cell_type": "code",
   "execution_count": 138,
   "metadata": {},
   "outputs": [],
   "source": [
    "data = np.append(a,b)\n",
    "#data = a"
   ]
  },
  {
   "cell_type": "code",
   "execution_count": 139,
   "metadata": {},
   "outputs": [
    {
     "data": {
      "text/plain": [
       "array([ 31,  43,  35,  48,  42,  34,  39,  44,  41,  30,  34,  43,  43,\n",
       "        48,  36,  48,  46,  43,  45,  33,  44,  39,  48,  46,  35,  31,\n",
       "        48,  43,  45,  46,  37,  30,  32,  49,  41,  46,  43,  35,  46,\n",
       "        32,  47,  32,  39,  41,  47,  44,  45,  31,  36,  34, 119, 108,\n",
       "       114, 101, 118, 100, 105, 100, 112, 104])"
      ]
     },
     "execution_count": 139,
     "metadata": {},
     "output_type": "execute_result"
    }
   ],
   "source": [
    "data"
   ]
  },
  {
   "cell_type": "code",
   "execution_count": 140,
   "metadata": {},
   "outputs": [
    {
     "data": {
      "image/png": "[encoded data removed]",
      "text/plain": [
       "<Figure size 432x288 with 1 Axes>"
      ]
     },
     "metadata": {
      "needs_background": "light"
     },
     "output_type": "display_data"
    }
   ],
   "source": [
    "plt.hist(data,30,edgecolor='black')\n",
    "plt.show()"
   ]
  },
  {
   "cell_type": "code",
   "execution_count": 141,
   "metadata": {},
   "outputs": [
    {
     "name": "stdout",
     "output_type": "stream",
     "text": [
      "Mean =  51.65\n",
      "Deviation =  18.816666666666666\n",
      "variance =  674.6941666666665\n",
      "Standard Deviation =  25.974875681447767\n"
     ]
    }
   ],
   "source": [
    "m = data.mean()\n",
    "print(\"Mean = \",m)\n",
    "dev = abs(data - data.mean()).sum() / data.size\n",
    "print(\"Deviation = \",dev)\n",
    "var = data.var()\n",
    "print(\"variance = \",var)\n",
    "std = data.std()\n",
    "print(\"Standard Deviation = \",std)"
   ]
  },
  {
   "cell_type": "code",
   "execution_count": 142,
   "metadata": {},
   "outputs": [
    {
     "data": {
      "image/png": "[encoded data removed]",
      "text/plain": [
       "<Figure size 432x288 with 1 Axes>"
      ]
     },
     "metadata": {
      "needs_background": "light"
     },
     "output_type": "display_data"
    }
   ],
   "source": [
    "plt.plot(data,'ro',label='data')\n",
    "plt.plot([0,data.size],[data.mean(),data.mean()],'g',lw=3,\n",
    "         label='mean')\n",
    "plt.plot([0,data.size],[m+dev,m+dev],c=\"b\",lw=2) # above\n",
    "plt.plot([0,data.size],[m-dev,m-dev],c=\"b\",lw=2,label='dev') # below\n",
    "#plt.plot([0,data.size],[m+var,m+var],c=\"k\",lw=2) # above\n",
    "#plt.plot([0,data.size],[m-var,m-var],c=\"k\",lw=2,label='var') # below\n",
    "\n",
    "plt.plot([0,data.size],[m+std,m+std],c=\"y\",lw=3) # above\n",
    "plt.plot([0,data.size],[m-std,m-std],c=\"y\",lw=3,label='std') # below\n",
    "\n",
    "#plt.plot([0,data.size],[np.median(data),np.median(data)],lw=3,\n",
    "#        label='median')\n",
    "\n",
    "for i in range(data.size):\n",
    "    plt.plot([i,i],[data.mean(),data[i]],\"c--\")\n",
    "plt.legend(loc=1)\n",
    "plt.show()"
   ]
  },
  {
   "cell_type": "code",
   "execution_count": 122,
   "metadata": {},
   "outputs": [],
   "source": [
    "height = np.array([ 4.11,5.5,5.6,5.2,5.9,5.11,5.3,4.9])"
   ]
  },
  {
   "cell_type": "code",
   "execution_count": 93,
   "metadata": {},
   "outputs": [
    {
     "data": {
      "text/plain": [
       "array([4.11, 5.5 , 5.6 , 5.2 , 5.9 , 5.11, 5.3 , 4.9 ])"
      ]
     },
     "execution_count": 93,
     "metadata": {},
     "output_type": "execute_result"
    }
   ],
   "source": [
    "height"
   ]
  },
  {
   "cell_type": "code",
   "execution_count": 94,
   "metadata": {},
   "outputs": [],
   "source": [
    "height.sort()"
   ]
  },
  {
   "cell_type": "code",
   "execution_count": 95,
   "metadata": {},
   "outputs": [
    {
     "data": {
      "text/plain": [
       "array([4.11, 4.9 , 5.11, 5.2 , 5.3 , 5.5 , 5.6 , 5.9 ])"
      ]
     },
     "execution_count": 95,
     "metadata": {},
     "output_type": "execute_result"
    }
   ],
   "source": [
    "height\n"
   ]
  },
  {
   "cell_type": "code",
   "execution_count": 96,
   "metadata": {},
   "outputs": [
    {
     "data": {
      "text/plain": [
       "5.202500000000001"
      ]
     },
     "execution_count": 96,
     "metadata": {},
     "output_type": "execute_result"
    }
   ],
   "source": [
    "np.mean(height)"
   ]
  },
  {
   "cell_type": "code",
   "execution_count": 97,
   "metadata": {},
   "outputs": [
    {
     "data": {
      "text/plain": [
       "5.25"
      ]
     },
     "execution_count": 97,
     "metadata": {},
     "output_type": "execute_result"
    }
   ],
   "source": [
    "np.median(height)"
   ]
  },
  {
   "cell_type": "code",
   "execution_count": 98,
   "metadata": {},
   "outputs": [
    {
     "data": {
      "text/plain": [
       "array([4.11, 4.9 , 5.11, 5.2 , 5.3 , 5.5 , 5.6 , 5.9 ])"
      ]
     },
     "execution_count": 98,
     "metadata": {},
     "output_type": "execute_result"
    }
   ],
   "source": [
    "height"
   ]
  },
  {
   "cell_type": "code",
   "execution_count": 99,
   "metadata": {},
   "outputs": [],
   "source": [
    "dev = height - height.mean()"
   ]
  },
  {
   "cell_type": "code",
   "execution_count": 100,
   "metadata": {},
   "outputs": [
    {
     "data": {
      "text/plain": [
       "-3.552713678800501e-15"
      ]
     },
     "execution_count": 100,
     "metadata": {},
     "output_type": "execute_result"
    }
   ],
   "source": [
    "dev.sum()"
   ]
  },
  {
   "cell_type": "code",
   "execution_count": 101,
   "metadata": {},
   "outputs": [],
   "source": [
    "dev = abs(height-height.mean()).sum() / height.size"
   ]
  },
  {
   "cell_type": "code",
   "execution_count": 102,
   "metadata": {},
   "outputs": [
    {
     "data": {
      "text/plain": [
       "0.37249999999999983"
      ]
     },
     "execution_count": 102,
     "metadata": {},
     "output_type": "execute_result"
    }
   ],
   "source": [
    "dev"
   ]
  },
  {
   "cell_type": "code",
   "execution_count": null,
   "metadata": {},
   "outputs": [],
   "source": []
  },
  {
   "cell_type": "code",
   "execution_count": 125,
   "metadata": {},
   "outputs": [],
   "source": [
    "x = np.random.randint(1,100,1000)"
   ]
  },
  {
   "cell_type": "code",
   "execution_count": 126,
   "metadata": {},
   "outputs": [
    {
     "data": {
      "text/plain": [
       "array([ 5, 75, 12, 48, 47, 93, 11,  9, 74, 63, 67, 88, 91, 99, 66, 39, 46,\n",
       "        6, 28, 47, 76, 71, 35, 66, 79, 28, 33, 32, 69, 24, 24,  1, 93, 31,\n",
       "       76, 23, 58, 74, 90, 94,  7, 54, 22, 88, 66, 20, 87, 59, 30, 89, 42,\n",
       "       44, 45, 23, 93, 24, 46, 29, 73, 98, 34, 38, 60, 78, 88, 13, 22, 30,\n",
       "        7, 42, 62, 94, 41, 36, 76, 70, 65,  5, 97, 38, 42, 86, 81, 54, 26,\n",
       "       91, 21, 25, 47, 19, 45, 13, 71, 34, 49, 92, 57, 50, 92, 87, 26, 90,\n",
       "       43, 79, 23, 93, 80, 39, 74,  5, 10, 26, 88, 67, 42, 24, 27, 55, 85,\n",
       "       63, 12, 37, 62,  1, 96, 15, 71, 20, 51, 83, 62, 88, 33, 82, 77, 67,\n",
       "       59, 52, 67, 58, 64, 25, 63, 96, 80, 97, 80, 31, 68, 37, 76, 33, 71,\n",
       "        7,  6,  4, 12,  3, 89, 25, 57,  4, 35,  9, 45, 83, 52, 79, 82, 35,\n",
       "       59, 68, 97, 76, 97, 32, 72,  1,  9,  5, 83, 23, 89, 79,  9, 54, 51,\n",
       "        9,  5, 43, 43, 92, 98, 57, 29, 84, 89, 16, 48, 87, 45, 88, 37, 36,\n",
       "       94, 31, 95,  4, 74, 93, 75, 53,  4,  1, 92, 12, 11, 69, 76, 69, 50,\n",
       "       79, 74, 66, 48, 59,  2, 15, 10, 86, 25, 71, 88, 42, 81,  3, 14, 38,\n",
       "       24,  8, 79, 67, 86, 22, 74, 18, 84, 57, 78, 51, 82, 60, 13,  1,  3,\n",
       "       86, 63, 32, 95, 31,  4, 19, 20, 53, 93, 81, 22, 32,  9, 81, 68, 59,\n",
       "       10, 24,  2, 25, 90, 25, 65, 77, 88,  7, 71,  7, 48, 86, 41, 82, 30,\n",
       "       39, 13,  2, 67, 75, 79,  1, 51, 93, 61, 11,  8, 56, 54, 71, 20, 70,\n",
       "       62, 87, 44, 14, 43, 43, 99, 19, 90, 91, 27, 68, 48,  5, 94, 56, 25,\n",
       "       32, 83, 65, 56, 44,  5, 26, 72, 82, 24, 94, 85, 18,  6, 42, 79,  1,\n",
       "       45,  9, 55,  8, 38,  2, 97, 52, 65,  8, 33, 51, 21, 45, 49, 98, 60,\n",
       "       67, 97, 56, 90, 42, 46, 47, 38, 80, 72, 27, 66, 40, 12,  9, 66, 84,\n",
       "       83, 40, 41, 75, 68, 57, 15, 26, 75,  8, 37, 20, 31, 25, 27, 26, 57,\n",
       "        6, 41, 26,  2, 45, 80, 44, 17, 90, 87, 43, 69, 47,  9, 57, 68, 93,\n",
       "       39, 17, 19, 52, 49, 11, 60, 70, 17, 83, 16, 53, 88, 36, 81, 65, 81,\n",
       "       92, 71, 81, 42,  3, 11, 61, 79, 97, 27, 92, 51, 78, 37, 25, 70, 70,\n",
       "       93, 81, 22,  8, 32, 90, 18,  5, 46, 44, 35, 18, 55, 55, 31, 46, 55,\n",
       "       43, 49, 67, 36, 74, 95, 42, 62, 29, 45, 63, 67,  5, 19, 89, 88, 49,\n",
       "       69, 92, 67, 97, 17, 73, 35,  1, 90, 86, 43, 23,  4, 38, 79, 61, 69,\n",
       "        9, 72, 64, 10, 33, 74, 76, 59, 71, 88, 31, 43, 92, 30, 40, 65, 52,\n",
       "       25, 65, 83, 61, 58, 49, 78, 51, 60, 51, 54, 40,  8, 27, 72, 64, 66,\n",
       "       10, 89, 71, 42, 23, 13, 82, 49, 84, 49, 26, 62,  6, 71, 57, 70, 80,\n",
       "       49, 14,  6, 14, 86, 76, 28, 64, 76, 79, 36,  1, 12, 15, 48,  6, 82,\n",
       "       86, 77,  5, 17,  2, 48, 32, 79, 65, 89, 54, 42, 84, 68, 11, 16, 95,\n",
       "       21,  6, 43, 73, 71, 70, 39, 27, 95,  2, 58,  6,  9, 50, 86, 95,  8,\n",
       "        6, 97, 89, 67, 46, 66, 23, 17, 11, 27, 15, 81, 21, 76, 40, 69, 14,\n",
       "       12, 92, 32, 72, 14, 32, 90, 58, 87, 54, 61, 25, 43, 47, 38, 45, 77,\n",
       "       18, 55, 20, 37, 73, 46, 49, 66, 72, 41, 26, 54, 26, 14, 22, 22, 13,\n",
       "       50, 58, 58, 48, 24, 10, 22, 11, 88, 84, 99, 34,  1, 23, 28, 20, 70,\n",
       "        2, 48, 82,  6,  2, 82, 96, 65, 28, 39, 80, 74, 15, 91, 47, 41, 28,\n",
       "       94, 14, 25, 44,  2, 29, 87, 37, 89,  7, 36, 76, 55, 76, 14, 59, 72,\n",
       "       75, 51, 17, 83, 97, 46, 81, 98, 41, 88, 31, 36,  3, 54, 58, 52, 83,\n",
       "       86, 54, 90, 73, 23, 41, 80, 19, 25, 45, 58, 63, 92, 89, 38, 82, 49,\n",
       "       53, 14, 89, 84, 72, 19, 50, 99, 28, 54, 37, 96, 75, 78, 94, 98, 48,\n",
       "       25, 63, 54, 17, 62, 73, 22, 96, 95, 18, 24, 10, 57, 47, 53, 41, 52,\n",
       "       97, 80, 75, 68, 93, 41, 99, 83, 28, 76, 69, 60, 48, 46, 17, 96, 10,\n",
       "       82, 36, 45, 14, 27, 34,  9,  4, 10, 11, 68, 72, 17, 52, 17, 47, 73,\n",
       "       77, 64, 29, 84, 30, 30, 78, 50, 41, 11, 74, 82, 17, 49, 34, 50, 23,\n",
       "       29, 19, 28, 29, 46, 94,  1, 30, 35, 92, 48, 57, 66, 31, 74, 90, 39,\n",
       "        2, 53,  3, 41, 13, 44, 31, 45, 45,  9, 47, 53, 51, 24, 92, 64, 92,\n",
       "       68, 52, 31, 71, 87, 79, 99, 24, 60, 15, 71, 90, 96, 65, 55, 53, 33,\n",
       "        8, 73, 29,  5, 72, 51, 84, 14, 81, 81,  9, 75, 75, 65, 57, 70, 73,\n",
       "       80, 67, 53, 90, 45, 61, 17, 53, 79, 70, 76, 16, 47, 47,  9, 78,  9,\n",
       "       50, 73,  6, 21, 16, 79, 80, 30, 85, 33, 24, 27, 37, 97, 46, 32, 39,\n",
       "       91, 15, 12, 64,  3, 24, 33, 20, 95, 29, 51, 80, 30, 98, 33, 45, 73,\n",
       "       66,  3, 69, 28, 92,  4, 54, 53, 61, 47, 11, 73, 49, 61, 99, 68, 21,\n",
       "       48, 90, 35, 64, 14, 57, 26, 14, 50,  5, 48, 27, 97, 70, 64, 12, 75,\n",
       "       25,  1, 53, 56,  1, 89, 92, 31, 48, 92, 40,  2, 91, 66, 39, 20, 58,\n",
       "       76, 52, 88, 81, 90, 35,  9, 90, 30, 40, 54,  6, 47, 39])"
      ]
     },
     "execution_count": 126,
     "metadata": {},
     "output_type": "execute_result"
    }
   ],
   "source": [
    "x"
   ]
  },
  {
   "cell_type": "code",
   "execution_count": null,
   "metadata": {},
   "outputs": [],
   "source": []
  }
 ],
 "metadata": {
  "kernelspec": {
   "display_name": "Python 3",
   "language": "python",
   "name": "python3"
  },
  "language_info": {
   "codemirror_mode": {
    "name": "ipython",
    "version": 3
   },
   "file_extension": ".py",
   "mimetype": "text/x-python",
   "name": "python",
   "nbconvert_exporter": "python",
   "pygments_lexer": "ipython3",
   "version": "3.7.3"
  }
 },
 "nbformat": 4,
 "nbformat_minor": 2
}

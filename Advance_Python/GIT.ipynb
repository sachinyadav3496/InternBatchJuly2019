{
 "cells": [
  {
   "cell_type": "markdown",
   "metadata": {},
   "source": [
    "\n",
    "\n",
    "\n",
    "\n",
    "### GIT\n",
    "\n",
    "\n",
    "https://en.wikipedia.org/wiki/Version_control\n",
    "\n",
    "Most Popular VCS are \n",
    "\n",
    "    GIT\n",
    "    Subversion\n",
    "    Mercurial \n",
    "\n",
    "\n",
    "Two Category \n",
    "    \n",
    "    Centralized \n",
    "    Distributed "
   ]
  },
  {
   "cell_type": "markdown",
   "metadata": {},
   "source": [
    "#### Most popular is Git \n",
    "\n",
    "##### git and git-hub both are different\n",
    "\n",
    "    git -> Version Control Tool\n",
    "    GitHub -> Service that hosts Git projects"
   ]
  },
  {
   "cell_type": "markdown",
   "metadata": {},
   "source": [
    "### Version Control Is Everywhere\n",
    "\n",
    "My job revolves around working with documents. I create new documents all the time, I fill them with information (hopefully informative information!) and then edit...edit...edit! Is your job like this? Perhaps it's not documents of text, but you're probably working with data in some form or another that changes over time.\n",
    "\n",
    "Now you might not think that you're using version control when working with documents, and you'd be right...sort of. You're not actively maintaining different versions of a document as you write it. But that doesn't mean there aren't different versions of the document. The computer is keeping track of the different versions for you!\n",
    "\n",
    "Don't believe me? Aside from pondering your propensity towards doubting, let's prove I'm right:\n",
    "\n",
    "open up your favorite text editor/code editor\n",
    "type some content (how about \"version control is dull!\")\n",
    "change one of the words in you wrote (e.g. change \"dull\" to \"life-changing awesome\")\n",
    "now (here it comes…!) press cmd + z or ctrl + z\n",
    "💥 Version control in action! (See?...told you I wasn't lying) I bet you use the \"undo\" command all the time. I know that I sure do!\n",
    "\n",
    "Practically every application I've ever used has an undo feature. You can think of this as a form of version control, but it's a rather limited form of version control. Let's look at a more powerful form by checking out a Google Docs document.\n",
    "\n"
   ]
  },
  {
   "cell_type": "markdown",
   "metadata": {},
   "source": [
    "# Key Terms "
   ]
  },
  {
   "cell_type": "markdown",
   "metadata": {},
   "source": [
    "## Version Control System (VCS) or Source Code Manager (SCM):\n",
    "\n",
    "#### A VCS allows you to:\n",
    "    revert files back to a previous state, revert the entire project back to a previous state,review changes made over time, see who last modified something that might be causing a problem, who introduced an issue and when, and more. \n"
   ]
  },
  {
   "cell_type": "markdown",
   "metadata": {},
   "source": [
    "### Commit (snapshot):\n",
    "    \n",
    "    Git thinks of its data like a set of snapshots of a mini file system. Every time you commit, or save the state of your project in Git, it basically takes a picture of what all your files look like at that moment and stores a reference to that snapshot."
   ]
  },
  {
   "cell_type": "markdown",
   "metadata": {},
   "source": [
    "#### Repository (repo):\n",
    "\n",
    "    A directory that contains your project work, as well as a few files (hidden by default in Mac OS X & Linux) which are used to communicate with Git. Repositories can exist either locally on your computer or as a remote copy on another computer."
   ]
  },
  {
   "cell_type": "markdown",
   "metadata": {},
   "source": [
    "#### Working Directory: \n",
    "    \n",
    "    The files that you see in your computer's file system. When you open your project files up on a code editor, you're working with files in the Working Directory. This is in contrast to the files that have been saved (in commits!) in the repository. When working with Git, the Working Directory is also different from the command line's concept of the current working directory which is the directory that your shell is \"looking at\" right now."
   ]
  },
  {
   "cell_type": "markdown",
   "metadata": {},
   "source": [
    "#### Checkout: \n",
    "\n",
    "    When content in the repository has been copied to the Working Directory. It is possible to checkout many things from a repository; a file, a commit, a branch, etc. "
   ]
  },
  {
   "cell_type": "markdown",
   "metadata": {},
   "source": [
    "#### Staging Area or Staging Index or Index: \n",
    "\n",
    "    A file in the Git directory that stores information about what will go into your next commit. You can think of the staging area as a prep table where Git will take the next commit. Files on the Staging Index are poised to be added to the repository."
   ]
  },
  {
   "cell_type": "markdown",
   "metadata": {},
   "source": [
    "#### SHA: \n",
    "\n",
    "    A SHA is basically an ID number for each commit. It is a 40-character string composed of characters (0–9 and a–f) and calculated based on the contents of a file or directory structure in Git. \"SHA\" is shorthand for \"SHA hash\". A SHA might look like this:\n",
    "\n",
    "                 e2adf8ae3e2e4ed40add75cc44cf9d0a869afeb6"
   ]
  },
  {
   "cell_type": "markdown",
   "metadata": {},
   "source": [
    "#### Branch: \n",
    "\n",
    "    A branch is when a new line of development is created that diverges from the main line of development. This alternative line of development can continue without altering the main line. \n",
    "    \n",
    "    Going back to the example of save point in a game, you can think of a branch as where you make a save point in your game and then decide to try out a risky move in the game. If the risky move doesn't pan out, then you can just go back to the save point. The key thing that makes branches incredibly powerful is that you can make save points on one branch, and then switch to a different branch and make save points there, too."
   ]
  },
  {
   "cell_type": "markdown",
   "metadata": {},
   "source": [
    "## First Time Git Configuration\n",
    "\n",
    "    Before you can start using Git, you need to configure it. Run each of the following lines on the command line to make sure everything is set up."
   ]
  },
  {
   "cell_type": "markdown",
   "metadata": {},
   "source": [
    "#### sets up Git with your name\n",
    "git config --global user.name \"<Your-Full-Name>\"\n",
    "\n",
    "#### sets up Git with your email\n",
    "git config --global user.email \"<your-email-address>\"\n",
    "\n",
    "#### makes sure that Git output is colored\n",
    "git config --global color.ui auto\n",
    "\n",
    "#### displays the original state in a conflict\n",
    "git config --global merge.conflictstyle diff3\n",
    "\n",
    "git config --list"
   ]
  },
  {
   "cell_type": "raw",
   "metadata": {},
   "source": []
  },
  {
   "cell_type": "markdown",
   "metadata": {},
   "source": [
    "### .Git Directory Contents\n",
    "\n",
    "We're about to take a look at the .git directory...it's not vital for this course, though, so don't worry about memorizing anything, it's here if you want to dig a little deeper into how Git works under the hood.\n",
    "\n",
    "Here's a brief synopsis on each of the items in the .git directory:\n",
    "\n",
    "#### config file -\n",
    "    where all project specific configuration settings are stored.\n",
    "\n",
    "    Git looks for configuration values in the configuration file in the Git directory (.git/config) of whatever repository you’re currently using. These values are specific to that single repository.\n",
    "\n",
    "    For example, let's say you set that the global configuration for Git uses your personal email address. If you want your work email to be used for a specific project rather than your personal email, that change would be added to this file.\n",
    "\n",
    "#### description file - \n",
    "    this file is only used by the GitWeb program, so we can ignore it hooks directory - this is where we could place client-side or server-side scripts that we can use to hook into Git's different lifecycle events\n",
    "\n",
    "#### info directory -\n",
    "    contains the global excludes file\n",
    "\n",
    "#### objects directory - \n",
    "    this directory will store all of the commits we make refs directory - this directory holds pointers to commits (basically the \"branches\" and \"tags\")\n",
    "    \n",
    "**Remember, other than the \"hooks\" directory, you shouldn't mess with pretty much any of the content in here. The \"hooks\" directory can be used to hook into different parts or events of Git's workflow, but that's a more advanced topic that we won't be getting into in this course.\n",
    "\n"
   ]
  },
  {
   "cell_type": "markdown",
   "metadata": {},
   "source": [
    "# Git Cheat Sheeet\n",
    "\n",
    "\n",
    "### first of all create a repository on your git hub account\n",
    "\n",
    "    than open powershell and go to your code folder \n",
    "\n",
    "\n",
    "#### git init --> it initlize your current folder  as a git repository\n",
    "\n",
    "#### vim README.md --> overview or discreption of your repository\n",
    "\n",
    "#### git config --global user.name gitusername\n",
    "\n",
    "#### git config --global user.email git email address --> config command will configure your credentials over git repository and if you used --global it will apply to all repository current or future\n",
    "\n",
    "#### git add . --> it will add all files from current repository\n",
    "#### git status --> staging area, where we can which files are added and which are still to be added at git staging area\n",
    "#### git commit -m \"any message regarding changes\" --> This will create a version for your git repository, every time you commit something you are creating a new version of your code\n",
    "\n",
    "#### git remote add origin https://gihub.com/username/project_name.git --> it will link your online repository to offline repository with name origin, so every time you write origin in this current directory meas you are reffering to\n",
    "https://github.com/username/project-name.git\n",
    "\n",
    "#### git push origin master --> It will upload all of your local data files to your remote repository ( internet connection required )\n",
    "\n",
    "#### git pull origin master --> It will fetch all the changes that has been commited to your directory\n",
    "\n",
    "## if you have an error of unrelated histories than follow this step\n",
    "#### git pull origin master --allow-unrelated-histories\n",
    "#### git status --> see which files has conflict issues ( see red files )\n",
    "#### git add . --> make sure you have reviewed your changes and merged all changes\n",
    "#### git commit -m \"message\" --> to acknowledge your changes as well as merges\"\n",
    "#### git push origin master --> origin is remote destination where we want to upload our files and master is your main branch\n",
    "\n",
    "\n",
    "## if you have large files more than 100MB than you need to configure GIT-LFS account\n",
    "\n",
    "#### step1) search for the git lfs download page on google\n",
    "#### step2) download git_lfs.exe program and install it in windows with default permission\n",
    "#### step3) open command shell ( powershell ) and type command \n",
    "\n",
    "    #git install lfs to tell git to use lfs\n"
   ]
  },
  {
   "cell_type": "code",
   "execution_count": null,
   "metadata": {},
   "outputs": [],
   "source": []
  }
 ],
 "metadata": {
  "kernelspec": {
   "display_name": "Python 3",
   "language": "python",
   "name": "python3"
  },
  "language_info": {
   "codemirror_mode": {
    "name": "ipython",
    "version": 3
   },
   "file_extension": ".py",
   "mimetype": "text/x-python",
   "name": "python",
   "nbconvert_exporter": "python",
   "pygments_lexer": "ipython3",
   "version": "3.7.3"
  }
 },
 "nbformat": 4,
 "nbformat_minor": 2
}

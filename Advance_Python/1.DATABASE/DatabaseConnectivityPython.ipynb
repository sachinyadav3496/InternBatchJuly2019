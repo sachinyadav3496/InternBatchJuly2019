{
 "cells": [
  {
   "cell_type": "code",
   "execution_count": 2,
   "metadata": {},
   "outputs": [],
   "source": [
    "import pymysql as sql"
   ]
  },
  {
   "cell_type": "code",
   "execution_count": 6,
   "metadata": {},
   "outputs": [],
   "source": [
    "db = sql.connect(host='localhost',port=3306,user='root',password='',database='world')"
   ]
  },
  {
   "cell_type": "code",
   "execution_count": 9,
   "metadata": {},
   "outputs": [],
   "source": [
    "db = sql.connect('localhost','root','','world')"
   ]
  },
  {
   "cell_type": "code",
   "execution_count": 16,
   "metadata": {},
   "outputs": [],
   "source": [
    "cursor = db.cursor()"
   ]
  },
  {
   "cell_type": "code",
   "execution_count": 11,
   "metadata": {},
   "outputs": [
    {
     "name": "stdout",
     "output_type": "stream",
     "text": [
      "(('city',), ('country',), ('countrylanguage',))\n"
     ]
    }
   ],
   "source": [
    "cmd = \"show tables;\"\n",
    "c.execute(cmd)\n",
    "\n",
    "data = c.fetchall()\n",
    "print(data)"
   ]
  },
  {
   "cell_type": "code",
   "execution_count": 14,
   "metadata": {},
   "outputs": [
    {
     "name": "stdout",
     "output_type": "stream",
     "text": [
      "Tables present in DATABASE :- \n",
      "1. city\n",
      "2. country\n",
      "3. countrylanguage\n"
     ]
    }
   ],
   "source": [
    "print(\"Tables present in DATABASE :- \")\n",
    "c = 1\n",
    "for item in data : \n",
    "    print(f\"{c}.\",*item)\n",
    "    c = c + 1"
   ]
  },
  {
   "cell_type": "code",
   "execution_count": 18,
   "metadata": {},
   "outputs": [
    {
     "name": "stdout",
     "output_type": "stream",
     "text": [
      "239\n"
     ]
    }
   ],
   "source": [
    "#Q? how many countries are there\n",
    "\n",
    "cmd = \"select count(*) from country\"\n",
    "cursor.execute(cmd)\n",
    "data  = cursor.fetchone()\n",
    "print(*data)"
   ]
  },
  {
   "cell_type": "code",
   "execution_count": 28,
   "metadata": {},
   "outputs": [
    {
     "name": "stdout",
     "output_type": "stream",
     "text": [
      "1.\tUnited Arab Emirates          \tHindi     \n",
      "2.\tFiji Islands                  \tHindi     \n",
      "3.\tIndia                         \tHindi     \n",
      "4.\tJamaica                       \tHindi     \n",
      "5.\tMauritius                     \tHindi     \n",
      "6.\tNepal                         \tHindi     \n",
      "7.\tSuriname                      \tHindi     \n",
      "8.\tTrinidad and Tobago           \tHindi     \n"
     ]
    }
   ],
   "source": [
    "#how may country speaks hindi\n",
    "cmd = \"select c.name,l.language from country c inner join countrylanguage l on c.code = l.countrycode where l.language='hindi'\"\n",
    "cursor.execute(cmd)\n",
    "data = cursor.fetchall()\n",
    "c = 1\n",
    "for item in data : \n",
    "    print(f\"{c}.\",item[0].ljust(30),item[1].ljust(10),sep='\\t')\n",
    "    c = c + 1"
   ]
  },
  {
   "cell_type": "code",
   "execution_count": 29,
   "metadata": {},
   "outputs": [],
   "source": [
    "db.commit()"
   ]
  },
  {
   "cell_type": "code",
   "execution_count": 30,
   "metadata": {},
   "outputs": [],
   "source": [
    "cursor.close()"
   ]
  },
  {
   "cell_type": "code",
   "execution_count": 31,
   "metadata": {},
   "outputs": [],
   "source": [
    "db.close()"
   ]
  },
  {
   "cell_type": "code",
   "execution_count": null,
   "metadata": {},
   "outputs": [],
   "source": []
  }
 ],
 "metadata": {
  "kernelspec": {
   "display_name": "Python 3",
   "language": "python",
   "name": "python3"
  },
  "language_info": {
   "codemirror_mode": {
    "name": "ipython",
    "version": 3
   },
   "file_extension": ".py",
   "mimetype": "text/x-python",
   "name": "python",
   "nbconvert_exporter": "python",
   "pygments_lexer": "ipython3",
   "version": "3.7.1"
  }
 },
 "nbformat": 4,
 "nbformat_minor": 2
}
